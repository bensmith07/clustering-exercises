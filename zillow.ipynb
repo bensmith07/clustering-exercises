{
 "cells": [
  {
   "cell_type": "code",
   "execution_count": 1,
   "id": "26ecdced",
   "metadata": {},
   "outputs": [],
   "source": [
    "import os\n",
    "import pandas as pd\n",
    "import seaborn as sns\n",
    "import matplotlib.pyplot as plt\n",
    "import env\n",
    "\n",
    "pd.set_option('display.max_rows', 100)"
   ]
  },
  {
   "cell_type": "code",
   "execution_count": 2,
   "id": "6cf1386e",
   "metadata": {},
   "outputs": [],
   "source": [
    "def zillow_2017_data():\n",
    "    '''\n",
    "    This function uses a SQL query to access the Codeup MySQL database and join \n",
    "    together all the relevant data from the zillow database.\n",
    "    The data obtained includes all properties in the dataset which had a transaction in 2017.\n",
    "    The function caches a csv in the local directory for later use. \n",
    "    '''\n",
    "    # establish a filename for the local csv\n",
    "    filename = 'zillow.csv'\n",
    "    # check to see if a local copy already exists. \n",
    "    if os.path.exists(filename):\n",
    "        print('Reading from local CSV...')\n",
    "        # if so, return the local csv\n",
    "        return pd.read_csv(filename)\n",
    "    # otherwise, pull the data from the database:\n",
    "    # establish database url\n",
    "    url = env.get_db_url('zillow')\n",
    "    # establish query\n",
    "    sql = '''\n",
    "            SELECT prop.*,\n",
    "                   pred.logerror,\n",
    "                   const.typeconstructiondesc,\n",
    "                   arch.architecturalstyledesc,\n",
    "                   land.propertylandusedesc,\n",
    "                   heat.heatingorsystemdesc,\n",
    "                   air.airconditioningdesc, \n",
    "                   bldg.buildingclassdesc,\n",
    "                   story.storydesc\n",
    "              FROM properties_2017 prop\n",
    "                JOIN predictions_2017            pred  USING(parcelid)\n",
    "                LEFT JOIN typeconstructiontype   const USING(typeconstructiontypeid)\n",
    "                LEFT JOIN architecturalstyletype arch  USING(architecturalstyletypeid)\n",
    "                LEFT JOIN propertylandusetype    land  USING(propertylandusetypeid)\n",
    "                LEFT JOIN heatingorsystemtype    heat  USING(heatingorsystemtypeid)\n",
    "                LEFT JOIN airconditioningtype    air   USING(airconditioningtypeid)\n",
    "                LEFT JOIN buildingclasstype      bldg  USING(buildingclasstypeid)\n",
    "                LEFT JOIN storytype              story USING(storytypeid)\n",
    "              WHERE pred.transactiondate LIKE \"2017%%\"\n",
    "                AND pred.transactiondate in (\n",
    "                                             SELECT MAX(transactiondate)\n",
    "                                               FROM predictions_2017\n",
    "                                               GROUP BY parcelid\n",
    "                                             )\n",
    "                AND prop.latitude IS NOT NULL\n",
    "                AND prop.longitude IS NOT NULL;\n",
    "            '''\n",
    "    print('No local file exists\\nReading from SQL database...')\n",
    "    # query the database and return the resulting table as a pandas dataframe\n",
    "    df = pd.read_sql(sql, url)\n",
    "    # save the dataframe to the local directory as a csv\n",
    "    print('Saving to local CSV... ')\n",
    "    df.to_csv(filename, index=False)\n",
    "    # return the resulting dataframe\n",
    "    return df"
   ]
  },
  {
   "cell_type": "code",
   "execution_count": 3,
   "id": "8abc0392",
   "metadata": {},
   "outputs": [
    {
     "name": "stdout",
     "output_type": "stream",
     "text": [
      "Reading from local CSV...\n"
     ]
    },
    {
     "name": "stderr",
     "output_type": "stream",
     "text": [
      "/var/folders/zb/3lg9b5xn3831bhkh23bd5bs00000gn/T/ipykernel_31752/2797934771.py:1: DtypeWarning: Columns (65) have mixed types.Specify dtype option on import or set low_memory=False.\n",
      "  df = zillow_2017_data()\n"
     ]
    }
   ],
   "source": [
    "df = zillow_2017_data()"
   ]
  },
  {
   "cell_type": "code",
   "execution_count": 4,
   "id": "2f5ead9c",
   "metadata": {},
   "outputs": [],
   "source": [
    "id_cols = [col for col in df.columns if 'typeid' in col or col in ['id', 'parcelid']]\n",
    "df = df.drop(columns=id_cols)"
   ]
  },
  {
   "cell_type": "code",
   "execution_count": 5,
   "id": "77df2b70",
   "metadata": {},
   "outputs": [
    {
     "data": {
      "text/plain": [
       "(77579, 53)"
      ]
     },
     "execution_count": 5,
     "metadata": {},
     "output_type": "execute_result"
    }
   ],
   "source": [
    "df.shape"
   ]
  },
  {
   "cell_type": "code",
   "execution_count": 6,
   "id": "cac74742",
   "metadata": {
    "scrolled": true
   },
   "outputs": [
    {
     "name": "stdout",
     "output_type": "stream",
     "text": [
      "<class 'pandas.core.frame.DataFrame'>\n",
      "RangeIndex: 77579 entries, 0 to 77578\n",
      "Data columns (total 53 columns):\n",
      " #   Column                        Non-Null Count  Dtype  \n",
      "---  ------                        --------------  -----  \n",
      " 0   basementsqft                  50 non-null     float64\n",
      " 1   bathroomcnt                   77579 non-null  float64\n",
      " 2   bedroomcnt                    77579 non-null  float64\n",
      " 3   calculatedbathnbr             76963 non-null  float64\n",
      " 4   finishedfloor1squarefeet      6037 non-null   float64\n",
      " 5   calculatedfinishedsquarefeet  77378 non-null  float64\n",
      " 6   finishedsquarefeet12          73923 non-null  float64\n",
      " 7   finishedsquarefeet13          42 non-null     float64\n",
      " 8   finishedsquarefeet15          3027 non-null   float64\n",
      " 9   finishedsquarefeet50          6037 non-null   float64\n",
      " 10  finishedsquarefeet6           386 non-null    float64\n",
      " 11  fips                          77579 non-null  float64\n",
      " 12  fireplacecnt                  8289 non-null   float64\n",
      " 13  fullbathcnt                   76963 non-null  float64\n",
      " 14  garagecarcnt                  25520 non-null  float64\n",
      " 15  garagetotalsqft               25520 non-null  float64\n",
      " 16  hashottuborspa                1539 non-null   float64\n",
      " 17  latitude                      77579 non-null  float64\n",
      " 18  longitude                     77579 non-null  float64\n",
      " 19  lotsizesquarefeet             69321 non-null  float64\n",
      " 20  poolcnt                       16174 non-null  float64\n",
      " 21  poolsizesum                   869 non-null    float64\n",
      " 22  propertycountylandusecode     77579 non-null  object \n",
      " 23  propertyzoningdesc            50476 non-null  object \n",
      " 24  rawcensustractandblock        77579 non-null  float64\n",
      " 25  regionidcity                  76107 non-null  float64\n",
      " 26  regionidcounty                77579 non-null  float64\n",
      " 27  regionidneighborhood          30974 non-null  float64\n",
      " 28  regionidzip                   77529 non-null  float64\n",
      " 29  roomcnt                       77579 non-null  float64\n",
      " 30  threequarterbathnbr           10106 non-null  float64\n",
      " 31  unitcnt                       50703 non-null  float64\n",
      " 32  yardbuildingsqft17            2393 non-null   float64\n",
      " 33  yardbuildingsqft26            70 non-null     float64\n",
      " 34  yearbuilt                     77309 non-null  float64\n",
      " 35  numberofstories               17599 non-null  float64\n",
      " 36  fireplaceflag                 172 non-null    float64\n",
      " 37  structuretaxvaluedollarcnt    77464 non-null  float64\n",
      " 38  taxvaluedollarcnt             77578 non-null  float64\n",
      " 39  assessmentyear                77579 non-null  float64\n",
      " 40  landtaxvaluedollarcnt         77577 non-null  float64\n",
      " 41  taxamount                     77574 non-null  float64\n",
      " 42  taxdelinquencyflag            2900 non-null   object \n",
      " 43  taxdelinquencyyear            2900 non-null   float64\n",
      " 44  censustractandblock           77332 non-null  float64\n",
      " 45  logerror                      77579 non-null  float64\n",
      " 46  typeconstructiondesc          223 non-null    object \n",
      " 47  architecturalstyledesc        207 non-null    object \n",
      " 48  propertylandusedesc           77579 non-null  object \n",
      " 49  heatingorsystemdesc           49571 non-null  object \n",
      " 50  airconditioningdesc           25007 non-null  object \n",
      " 51  buildingclassdesc             15 non-null     object \n",
      " 52  storydesc                     50 non-null     object \n",
      "dtypes: float64(43), object(10)\n",
      "memory usage: 31.4+ MB\n"
     ]
    }
   ],
   "source": [
    "df.info()"
   ]
  },
  {
   "cell_type": "code",
   "execution_count": 7,
   "id": "a46863a0",
   "metadata": {},
   "outputs": [
    {
     "data": {
      "text/html": [
       "<div>\n",
       "<style scoped>\n",
       "    .dataframe tbody tr th:only-of-type {\n",
       "        vertical-align: middle;\n",
       "    }\n",
       "\n",
       "    .dataframe tbody tr th {\n",
       "        vertical-align: top;\n",
       "    }\n",
       "\n",
       "    .dataframe thead th {\n",
       "        text-align: right;\n",
       "    }\n",
       "</style>\n",
       "<table border=\"1\" class=\"dataframe\">\n",
       "  <thead>\n",
       "    <tr style=\"text-align: right;\">\n",
       "      <th></th>\n",
       "      <th>basementsqft</th>\n",
       "      <th>bathroomcnt</th>\n",
       "      <th>bedroomcnt</th>\n",
       "      <th>calculatedbathnbr</th>\n",
       "      <th>finishedfloor1squarefeet</th>\n",
       "      <th>calculatedfinishedsquarefeet</th>\n",
       "      <th>finishedsquarefeet12</th>\n",
       "      <th>finishedsquarefeet13</th>\n",
       "      <th>finishedsquarefeet15</th>\n",
       "      <th>finishedsquarefeet50</th>\n",
       "      <th>...</th>\n",
       "      <th>numberofstories</th>\n",
       "      <th>fireplaceflag</th>\n",
       "      <th>structuretaxvaluedollarcnt</th>\n",
       "      <th>taxvaluedollarcnt</th>\n",
       "      <th>assessmentyear</th>\n",
       "      <th>landtaxvaluedollarcnt</th>\n",
       "      <th>taxamount</th>\n",
       "      <th>taxdelinquencyyear</th>\n",
       "      <th>censustractandblock</th>\n",
       "      <th>logerror</th>\n",
       "    </tr>\n",
       "  </thead>\n",
       "  <tbody>\n",
       "    <tr>\n",
       "      <th>count</th>\n",
       "      <td>50.000000</td>\n",
       "      <td>77579.000000</td>\n",
       "      <td>77579.000000</td>\n",
       "      <td>76963.000000</td>\n",
       "      <td>6037.000000</td>\n",
       "      <td>77378.000000</td>\n",
       "      <td>73923.000000</td>\n",
       "      <td>42.000000</td>\n",
       "      <td>3027.000000</td>\n",
       "      <td>6037.000000</td>\n",
       "      <td>...</td>\n",
       "      <td>17599.000000</td>\n",
       "      <td>172.0</td>\n",
       "      <td>7.746400e+04</td>\n",
       "      <td>7.757800e+04</td>\n",
       "      <td>77579.0</td>\n",
       "      <td>7.757700e+04</td>\n",
       "      <td>77574.000000</td>\n",
       "      <td>2900.000000</td>\n",
       "      <td>7.733200e+04</td>\n",
       "      <td>77579.000000</td>\n",
       "    </tr>\n",
       "    <tr>\n",
       "      <th>mean</th>\n",
       "      <td>679.720000</td>\n",
       "      <td>2.298496</td>\n",
       "      <td>3.053223</td>\n",
       "      <td>2.316392</td>\n",
       "      <td>1366.165314</td>\n",
       "      <td>1784.935421</td>\n",
       "      <td>1760.284553</td>\n",
       "      <td>1388.761905</td>\n",
       "      <td>2354.491245</td>\n",
       "      <td>1381.388935</td>\n",
       "      <td>...</td>\n",
       "      <td>1.434286</td>\n",
       "      <td>1.0</td>\n",
       "      <td>1.892811e+05</td>\n",
       "      <td>4.901506e+05</td>\n",
       "      <td>2016.0</td>\n",
       "      <td>3.011515e+05</td>\n",
       "      <td>5995.961788</td>\n",
       "      <td>14.088276</td>\n",
       "      <td>6.049667e+13</td>\n",
       "      <td>0.016803</td>\n",
       "    </tr>\n",
       "    <tr>\n",
       "      <th>std</th>\n",
       "      <td>689.703546</td>\n",
       "      <td>0.996732</td>\n",
       "      <td>1.140480</td>\n",
       "      <td>0.979689</td>\n",
       "      <td>670.701336</td>\n",
       "      <td>954.250373</td>\n",
       "      <td>934.352566</td>\n",
       "      <td>122.220874</td>\n",
       "      <td>1186.985442</td>\n",
       "      <td>725.792665</td>\n",
       "      <td>...</td>\n",
       "      <td>0.544515</td>\n",
       "      <td>0.0</td>\n",
       "      <td>2.304107e+05</td>\n",
       "      <td>6.537979e+05</td>\n",
       "      <td>0.0</td>\n",
       "      <td>4.927249e+05</td>\n",
       "      <td>7628.859728</td>\n",
       "      <td>2.181281</td>\n",
       "      <td>1.533339e+12</td>\n",
       "      <td>0.170738</td>\n",
       "    </tr>\n",
       "    <tr>\n",
       "      <th>min</th>\n",
       "      <td>38.000000</td>\n",
       "      <td>0.000000</td>\n",
       "      <td>0.000000</td>\n",
       "      <td>1.000000</td>\n",
       "      <td>44.000000</td>\n",
       "      <td>128.000000</td>\n",
       "      <td>128.000000</td>\n",
       "      <td>1056.000000</td>\n",
       "      <td>598.000000</td>\n",
       "      <td>44.000000</td>\n",
       "      <td>...</td>\n",
       "      <td>1.000000</td>\n",
       "      <td>1.0</td>\n",
       "      <td>4.400000e+01</td>\n",
       "      <td>1.000000e+03</td>\n",
       "      <td>2016.0</td>\n",
       "      <td>1.610000e+02</td>\n",
       "      <td>19.920000</td>\n",
       "      <td>3.000000</td>\n",
       "      <td>6.037101e+13</td>\n",
       "      <td>-4.655420</td>\n",
       "    </tr>\n",
       "    <tr>\n",
       "      <th>25%</th>\n",
       "      <td>273.000000</td>\n",
       "      <td>2.000000</td>\n",
       "      <td>2.000000</td>\n",
       "      <td>2.000000</td>\n",
       "      <td>955.000000</td>\n",
       "      <td>1182.000000</td>\n",
       "      <td>1172.000000</td>\n",
       "      <td>1344.000000</td>\n",
       "      <td>1624.000000</td>\n",
       "      <td>956.000000</td>\n",
       "      <td>...</td>\n",
       "      <td>1.000000</td>\n",
       "      <td>1.0</td>\n",
       "      <td>8.417925e+04</td>\n",
       "      <td>2.068985e+05</td>\n",
       "      <td>2016.0</td>\n",
       "      <td>8.529300e+04</td>\n",
       "      <td>2712.630000</td>\n",
       "      <td>14.000000</td>\n",
       "      <td>6.037311e+13</td>\n",
       "      <td>-0.024309</td>\n",
       "    </tr>\n",
       "    <tr>\n",
       "      <th>50%</th>\n",
       "      <td>515.000000</td>\n",
       "      <td>2.000000</td>\n",
       "      <td>3.000000</td>\n",
       "      <td>2.000000</td>\n",
       "      <td>1257.000000</td>\n",
       "      <td>1542.000000</td>\n",
       "      <td>1523.000000</td>\n",
       "      <td>1440.000000</td>\n",
       "      <td>2088.000000</td>\n",
       "      <td>1259.000000</td>\n",
       "      <td>...</td>\n",
       "      <td>1.000000</td>\n",
       "      <td>1.0</td>\n",
       "      <td>1.364045e+05</td>\n",
       "      <td>3.588785e+05</td>\n",
       "      <td>2016.0</td>\n",
       "      <td>2.031880e+05</td>\n",
       "      <td>4448.265000</td>\n",
       "      <td>15.000000</td>\n",
       "      <td>6.037603e+13</td>\n",
       "      <td>0.006676</td>\n",
       "    </tr>\n",
       "    <tr>\n",
       "      <th>75%</th>\n",
       "      <td>796.500000</td>\n",
       "      <td>3.000000</td>\n",
       "      <td>4.000000</td>\n",
       "      <td>3.000000</td>\n",
       "      <td>1615.000000</td>\n",
       "      <td>2112.000000</td>\n",
       "      <td>2075.000000</td>\n",
       "      <td>1440.000000</td>\n",
       "      <td>2831.000000</td>\n",
       "      <td>1621.000000</td>\n",
       "      <td>...</td>\n",
       "      <td>2.000000</td>\n",
       "      <td>1.0</td>\n",
       "      <td>2.187340e+05</td>\n",
       "      <td>5.690000e+05</td>\n",
       "      <td>2016.0</td>\n",
       "      <td>3.667530e+05</td>\n",
       "      <td>6926.917500</td>\n",
       "      <td>15.000000</td>\n",
       "      <td>6.059042e+13</td>\n",
       "      <td>0.039291</td>\n",
       "    </tr>\n",
       "    <tr>\n",
       "      <th>max</th>\n",
       "      <td>3560.000000</td>\n",
       "      <td>18.000000</td>\n",
       "      <td>16.000000</td>\n",
       "      <td>18.000000</td>\n",
       "      <td>6912.000000</td>\n",
       "      <td>35640.000000</td>\n",
       "      <td>21929.000000</td>\n",
       "      <td>1560.000000</td>\n",
       "      <td>35640.000000</td>\n",
       "      <td>12467.000000</td>\n",
       "      <td>...</td>\n",
       "      <td>6.000000</td>\n",
       "      <td>1.0</td>\n",
       "      <td>1.142179e+07</td>\n",
       "      <td>4.906124e+07</td>\n",
       "      <td>2016.0</td>\n",
       "      <td>4.895220e+07</td>\n",
       "      <td>586639.300000</td>\n",
       "      <td>99.000000</td>\n",
       "      <td>4.830301e+14</td>\n",
       "      <td>5.262999</td>\n",
       "    </tr>\n",
       "  </tbody>\n",
       "</table>\n",
       "<p>8 rows × 43 columns</p>\n",
       "</div>"
      ],
      "text/plain": [
       "       basementsqft   bathroomcnt    bedroomcnt  calculatedbathnbr  \\\n",
       "count     50.000000  77579.000000  77579.000000       76963.000000   \n",
       "mean     679.720000      2.298496      3.053223           2.316392   \n",
       "std      689.703546      0.996732      1.140480           0.979689   \n",
       "min       38.000000      0.000000      0.000000           1.000000   \n",
       "25%      273.000000      2.000000      2.000000           2.000000   \n",
       "50%      515.000000      2.000000      3.000000           2.000000   \n",
       "75%      796.500000      3.000000      4.000000           3.000000   \n",
       "max     3560.000000     18.000000     16.000000          18.000000   \n",
       "\n",
       "       finishedfloor1squarefeet  calculatedfinishedsquarefeet  \\\n",
       "count               6037.000000                  77378.000000   \n",
       "mean                1366.165314                   1784.935421   \n",
       "std                  670.701336                    954.250373   \n",
       "min                   44.000000                    128.000000   \n",
       "25%                  955.000000                   1182.000000   \n",
       "50%                 1257.000000                   1542.000000   \n",
       "75%                 1615.000000                   2112.000000   \n",
       "max                 6912.000000                  35640.000000   \n",
       "\n",
       "       finishedsquarefeet12  finishedsquarefeet13  finishedsquarefeet15  \\\n",
       "count          73923.000000             42.000000           3027.000000   \n",
       "mean            1760.284553           1388.761905           2354.491245   \n",
       "std              934.352566            122.220874           1186.985442   \n",
       "min              128.000000           1056.000000            598.000000   \n",
       "25%             1172.000000           1344.000000           1624.000000   \n",
       "50%             1523.000000           1440.000000           2088.000000   \n",
       "75%             2075.000000           1440.000000           2831.000000   \n",
       "max            21929.000000           1560.000000          35640.000000   \n",
       "\n",
       "       finishedsquarefeet50  ...  numberofstories  fireplaceflag  \\\n",
       "count           6037.000000  ...     17599.000000          172.0   \n",
       "mean            1381.388935  ...         1.434286            1.0   \n",
       "std              725.792665  ...         0.544515            0.0   \n",
       "min               44.000000  ...         1.000000            1.0   \n",
       "25%              956.000000  ...         1.000000            1.0   \n",
       "50%             1259.000000  ...         1.000000            1.0   \n",
       "75%             1621.000000  ...         2.000000            1.0   \n",
       "max            12467.000000  ...         6.000000            1.0   \n",
       "\n",
       "       structuretaxvaluedollarcnt  taxvaluedollarcnt  assessmentyear  \\\n",
       "count                7.746400e+04       7.757800e+04         77579.0   \n",
       "mean                 1.892811e+05       4.901506e+05          2016.0   \n",
       "std                  2.304107e+05       6.537979e+05             0.0   \n",
       "min                  4.400000e+01       1.000000e+03          2016.0   \n",
       "25%                  8.417925e+04       2.068985e+05          2016.0   \n",
       "50%                  1.364045e+05       3.588785e+05          2016.0   \n",
       "75%                  2.187340e+05       5.690000e+05          2016.0   \n",
       "max                  1.142179e+07       4.906124e+07          2016.0   \n",
       "\n",
       "       landtaxvaluedollarcnt      taxamount  taxdelinquencyyear  \\\n",
       "count           7.757700e+04   77574.000000         2900.000000   \n",
       "mean            3.011515e+05    5995.961788           14.088276   \n",
       "std             4.927249e+05    7628.859728            2.181281   \n",
       "min             1.610000e+02      19.920000            3.000000   \n",
       "25%             8.529300e+04    2712.630000           14.000000   \n",
       "50%             2.031880e+05    4448.265000           15.000000   \n",
       "75%             3.667530e+05    6926.917500           15.000000   \n",
       "max             4.895220e+07  586639.300000           99.000000   \n",
       "\n",
       "       censustractandblock      logerror  \n",
       "count         7.733200e+04  77579.000000  \n",
       "mean          6.049667e+13      0.016803  \n",
       "std           1.533339e+12      0.170738  \n",
       "min           6.037101e+13     -4.655420  \n",
       "25%           6.037311e+13     -0.024309  \n",
       "50%           6.037603e+13      0.006676  \n",
       "75%           6.059042e+13      0.039291  \n",
       "max           4.830301e+14      5.262999  \n",
       "\n",
       "[8 rows x 43 columns]"
      ]
     },
     "execution_count": 7,
     "metadata": {},
     "output_type": "execute_result"
    }
   ],
   "source": [
    "df.describe()"
   ]
  },
  {
   "cell_type": "code",
   "execution_count": 8,
   "id": "cc2f2c68",
   "metadata": {
    "scrolled": true
   },
   "outputs": [
    {
     "data": {
      "image/png": "[encoded data removed]",
      "text/plain": [
       "<Figure size 432x288 with 1 Axes>"
      ]
     },
     "metadata": {
      "needs_background": "light"
     },
     "output_type": "display_data"
    },
    {
     "data": {
      "image/png": "[encoded data removed]",
      "text/plain": [
       "<Figure size 432x288 with 1 Axes>"
      ]
     },
     "metadata": {
      "needs_background": "light"
     },
     "output_type": "display_data"
    },
    {
     "data": {
      "image/png": "[encoded data removed]",
      "text/plain": [
       "<Figure size 432x288 with 1 Axes>"
      ]
     },
     "metadata": {
      "needs_background": "light"
     },
     "output_type": "display_data"
    },
    {
     "data": {
      "image/png": "[encoded data removed]",
      "text/plain": [
       "<Figure size 432x288 with 1 Axes>"
      ]
     },
     "metadata": {
      "needs_background": "light"
     },
     "output_type": "display_data"
    },
    {
     "data": {
      "image/png": "[encoded data removed]",
      "text/plain": [
       "<Figure size 432x288 with 1 Axes>"
      ]
     },
     "metadata": {
      "needs_background": "light"
     },
     "output_type": "display_data"
    },
    {
     "data": {
      "image/png": "[encoded data removed]",
      "text/plain": [
       "<Figure size 432x288 with 1 Axes>"
      ]
     },
     "metadata": {
      "needs_background": "light"
     },
     "output_type": "display_data"
    },
    {
     "data": {
      "image/png": "[encoded data removed]",
      "text/plain": [
       "<Figure size 432x288 with 1 Axes>"
      ]
     },
     "metadata": {
      "needs_background": "light"
     },
     "output_type": "display_data"
    },
    {
     "data": {
      "image/png": "[encoded data removed]",
      "text/plain": [
       "<Figure size 432x288 with 1 Axes>"
      ]
     },
     "metadata": {
      "needs_background": "light"
     },
     "output_type": "display_data"
    },
    {
     "data": {
      "image/png": "[encoded data removed]",
      "text/plain": [
       "<Figure size 432x288 with 1 Axes>"
      ]
     },
     "metadata": {
      "needs_background": "light"
     },
     "output_type": "display_data"
    },
    {
     "data": {
      "image/png": "[encoded data removed]",
      "text/plain": [
       "<Figure size 432x288 with 1 Axes>"
      ]
     },
     "metadata": {
      "needs_background": "light"
     },
     "output_type": "display_data"
    },
    {
     "data": {
      "image/png": "[encoded data removed]",
      "text/plain": [
       "<Figure size 432x288 with 1 Axes>"
      ]
     },
     "metadata": {
      "needs_background": "light"
     },
     "output_type": "display_data"
    },
    {
     "data": {
      "image/png": "[encoded data removed]",
      "text/plain": [
       "<Figure size 432x288 with 1 Axes>"
      ]
     },
     "metadata": {
      "needs_background": "light"
     },
     "output_type": "display_data"
    },
    {
     "data": {
      "image/png": "[encoded data removed]",
      "text/plain": [
       "<Figure size 432x288 with 1 Axes>"
      ]
     },
     "metadata": {
      "needs_background": "light"
     },
     "output_type": "display_data"
    },
    {
     "data": {
      "image/png": "[encoded data removed]",
      "text/plain": [
       "<Figure size 432x288 with 1 Axes>"
      ]
     },
     "metadata": {
      "needs_background": "light"
     },
     "output_type": "display_data"
    },
    {
     "data": {
      "image/png": "[encoded data removed]",
      "text/plain": [
       "<Figure size 432x288 with 1 Axes>"
      ]
     },
     "metadata": {
      "needs_background": "light"
     },
     "output_type": "display_data"
    },
    {
     "data": {
      "image/png": "[encoded data removed]",
      "text/plain": [
       "<Figure size 432x288 with 1 Axes>"
      ]
     },
     "metadata": {
      "needs_background": "light"
     },
     "output_type": "display_data"
    },
    {
     "ename": "KeyboardInterrupt",
     "evalue": "",
     "output_type": "error",
     "traceback": [
      "\u001b[0;31m---------------------------------------------------------------------------\u001b[0m",
      "\u001b[0;31mKeyboardInterrupt\u001b[0m                         Traceback (most recent call last)",
      "\u001b[0;32m/var/folders/zb/3lg9b5xn3831bhkh23bd5bs00000gn/T/ipykernel_31752/986107246.py\u001b[0m in \u001b[0;36m<module>\u001b[0;34m\u001b[0m\n\u001b[1;32m      5\u001b[0m \u001b[0;32mfor\u001b[0m \u001b[0mcol\u001b[0m \u001b[0;32min\u001b[0m \u001b[0mquant_cols\u001b[0m\u001b[0;34m:\u001b[0m\u001b[0;34m\u001b[0m\u001b[0;34m\u001b[0m\u001b[0m\n\u001b[1;32m      6\u001b[0m     \u001b[0msns\u001b[0m\u001b[0;34m.\u001b[0m\u001b[0mhistplot\u001b[0m\u001b[0;34m(\u001b[0m\u001b[0mdata\u001b[0m\u001b[0;34m=\u001b[0m\u001b[0mdf\u001b[0m\u001b[0;34m,\u001b[0m \u001b[0mx\u001b[0m\u001b[0;34m=\u001b[0m\u001b[0mcol\u001b[0m\u001b[0;34m)\u001b[0m\u001b[0;34m\u001b[0m\u001b[0;34m\u001b[0m\u001b[0m\n\u001b[0;32m----> 7\u001b[0;31m     \u001b[0mplt\u001b[0m\u001b[0;34m.\u001b[0m\u001b[0mshow\u001b[0m\u001b[0;34m(\u001b[0m\u001b[0;34m)\u001b[0m\u001b[0;34m\u001b[0m\u001b[0;34m\u001b[0m\u001b[0m\n\u001b[0m",
      "\u001b[0;32m/opt/homebrew/anaconda3/lib/python3.9/site-packages/matplotlib/pyplot.py\u001b[0m in \u001b[0;36mshow\u001b[0;34m(*args, **kwargs)\u001b[0m\n\u001b[1;32m    376\u001b[0m     \"\"\"\n\u001b[1;32m    377\u001b[0m     \u001b[0m_warn_if_gui_out_of_main_thread\u001b[0m\u001b[0;34m(\u001b[0m\u001b[0;34m)\u001b[0m\u001b[0;34m\u001b[0m\u001b[0;34m\u001b[0m\u001b[0m\n\u001b[0;32m--> 378\u001b[0;31m     \u001b[0;32mreturn\u001b[0m \u001b[0m_backend_mod\u001b[0m\u001b[0;34m.\u001b[0m\u001b[0mshow\u001b[0m\u001b[0;34m(\u001b[0m\u001b[0;34m*\u001b[0m\u001b[0margs\u001b[0m\u001b[0;34m,\u001b[0m \u001b[0;34m**\u001b[0m\u001b[0mkwargs\u001b[0m\u001b[0;34m)\u001b[0m\u001b[0;34m\u001b[0m\u001b[0;34m\u001b[0m\u001b[0m\n\u001b[0m\u001b[1;32m    379\u001b[0m \u001b[0;34m\u001b[0m\u001b[0m\n\u001b[1;32m    380\u001b[0m \u001b[0;34m\u001b[0m\u001b[0m\n",
      "\u001b[0;32m/opt/homebrew/anaconda3/lib/python3.9/site-packages/matplotlib_inline/backend_inline.py\u001b[0m in \u001b[0;36mshow\u001b[0;34m(close, block)\u001b[0m\n\u001b[1;32m     39\u001b[0m     \u001b[0;32mtry\u001b[0m\u001b[0;34m:\u001b[0m\u001b[0;34m\u001b[0m\u001b[0;34m\u001b[0m\u001b[0m\n\u001b[1;32m     40\u001b[0m         \u001b[0;32mfor\u001b[0m \u001b[0mfigure_manager\u001b[0m \u001b[0;32min\u001b[0m \u001b[0mGcf\u001b[0m\u001b[0;34m.\u001b[0m\u001b[0mget_all_fig_managers\u001b[0m\u001b[0;34m(\u001b[0m\u001b[0;34m)\u001b[0m\u001b[0;34m:\u001b[0m\u001b[0;34m\u001b[0m\u001b[0;34m\u001b[0m\u001b[0m\n\u001b[0;32m---> 41\u001b[0;31m             display(\n\u001b[0m\u001b[1;32m     42\u001b[0m                 \u001b[0mfigure_manager\u001b[0m\u001b[0;34m.\u001b[0m\u001b[0mcanvas\u001b[0m\u001b[0;34m.\u001b[0m\u001b[0mfigure\u001b[0m\u001b[0;34m,\u001b[0m\u001b[0;34m\u001b[0m\u001b[0;34m\u001b[0m\u001b[0m\n\u001b[1;32m     43\u001b[0m                 \u001b[0mmetadata\u001b[0m\u001b[0;34m=\u001b[0m\u001b[0m_fetch_figure_metadata\u001b[0m\u001b[0;34m(\u001b[0m\u001b[0mfigure_manager\u001b[0m\u001b[0;34m.\u001b[0m\u001b[0mcanvas\u001b[0m\u001b[0;34m.\u001b[0m\u001b[0mfigure\u001b[0m\u001b[0;34m)\u001b[0m\u001b[0;34m\u001b[0m\u001b[0;34m\u001b[0m\u001b[0m\n",
      "\u001b[0;32m/opt/homebrew/anaconda3/lib/python3.9/site-packages/IPython/core/display.py\u001b[0m in \u001b[0;36mdisplay\u001b[0;34m(include, exclude, metadata, transient, display_id, *objs, **kwargs)\u001b[0m\n\u001b[1;32m    318\u001b[0m             \u001b[0mpublish_display_data\u001b[0m\u001b[0;34m(\u001b[0m\u001b[0mdata\u001b[0m\u001b[0;34m=\u001b[0m\u001b[0mobj\u001b[0m\u001b[0;34m,\u001b[0m \u001b[0mmetadata\u001b[0m\u001b[0;34m=\u001b[0m\u001b[0mmetadata\u001b[0m\u001b[0;34m,\u001b[0m \u001b[0;34m**\u001b[0m\u001b[0mkwargs\u001b[0m\u001b[0;34m)\u001b[0m\u001b[0;34m\u001b[0m\u001b[0;34m\u001b[0m\u001b[0m\n\u001b[1;32m    319\u001b[0m         \u001b[0;32melse\u001b[0m\u001b[0;34m:\u001b[0m\u001b[0;34m\u001b[0m\u001b[0;34m\u001b[0m\u001b[0m\n\u001b[0;32m--> 320\u001b[0;31m             \u001b[0mformat_dict\u001b[0m\u001b[0;34m,\u001b[0m \u001b[0mmd_dict\u001b[0m \u001b[0;34m=\u001b[0m \u001b[0mformat\u001b[0m\u001b[0;34m(\u001b[0m\u001b[0mobj\u001b[0m\u001b[0;34m,\u001b[0m \u001b[0minclude\u001b[0m\u001b[0;34m=\u001b[0m\u001b[0minclude\u001b[0m\u001b[0;34m,\u001b[0m \u001b[0mexclude\u001b[0m\u001b[0;34m=\u001b[0m\u001b[0mexclude\u001b[0m\u001b[0;34m)\u001b[0m\u001b[0;34m\u001b[0m\u001b[0;34m\u001b[0m\u001b[0m\n\u001b[0m\u001b[1;32m    321\u001b[0m             \u001b[0;32mif\u001b[0m \u001b[0;32mnot\u001b[0m \u001b[0mformat_dict\u001b[0m\u001b[0;34m:\u001b[0m\u001b[0;34m\u001b[0m\u001b[0;34m\u001b[0m\u001b[0m\n\u001b[1;32m    322\u001b[0m                 \u001b[0;31m# nothing to display (e.g. _ipython_display_ took over)\u001b[0m\u001b[0;34m\u001b[0m\u001b[0;34m\u001b[0m\u001b[0m\n",
      "\u001b[0;32m/opt/homebrew/anaconda3/lib/python3.9/site-packages/IPython/core/formatters.py\u001b[0m in \u001b[0;36mformat\u001b[0;34m(self, obj, include, exclude)\u001b[0m\n\u001b[1;32m    178\u001b[0m             \u001b[0mmd\u001b[0m \u001b[0;34m=\u001b[0m \u001b[0;32mNone\u001b[0m\u001b[0;34m\u001b[0m\u001b[0;34m\u001b[0m\u001b[0m\n\u001b[1;32m    179\u001b[0m             \u001b[0;32mtry\u001b[0m\u001b[0;34m:\u001b[0m\u001b[0;34m\u001b[0m\u001b[0;34m\u001b[0m\u001b[0m\n\u001b[0;32m--> 180\u001b[0;31m                 \u001b[0mdata\u001b[0m \u001b[0;34m=\u001b[0m \u001b[0mformatter\u001b[0m\u001b[0;34m(\u001b[0m\u001b[0mobj\u001b[0m\u001b[0;34m)\u001b[0m\u001b[0;34m\u001b[0m\u001b[0;34m\u001b[0m\u001b[0m\n\u001b[0m\u001b[1;32m    181\u001b[0m             \u001b[0;32mexcept\u001b[0m\u001b[0;34m:\u001b[0m\u001b[0;34m\u001b[0m\u001b[0;34m\u001b[0m\u001b[0m\n\u001b[1;32m    182\u001b[0m                 \u001b[0;31m# FIXME: log the exception\u001b[0m\u001b[0;34m\u001b[0m\u001b[0;34m\u001b[0m\u001b[0m\n",
      "\u001b[0;32m/opt/homebrew/anaconda3/lib/python3.9/site-packages/decorator.py\u001b[0m in \u001b[0;36mfun\u001b[0;34m(*args, **kw)\u001b[0m\n\u001b[1;32m    230\u001b[0m             \u001b[0;32mif\u001b[0m \u001b[0;32mnot\u001b[0m \u001b[0mkwsyntax\u001b[0m\u001b[0;34m:\u001b[0m\u001b[0;34m\u001b[0m\u001b[0;34m\u001b[0m\u001b[0m\n\u001b[1;32m    231\u001b[0m                 \u001b[0margs\u001b[0m\u001b[0;34m,\u001b[0m \u001b[0mkw\u001b[0m \u001b[0;34m=\u001b[0m \u001b[0mfix\u001b[0m\u001b[0;34m(\u001b[0m\u001b[0margs\u001b[0m\u001b[0;34m,\u001b[0m \u001b[0mkw\u001b[0m\u001b[0;34m,\u001b[0m \u001b[0msig\u001b[0m\u001b[0;34m)\u001b[0m\u001b[0;34m\u001b[0m\u001b[0;34m\u001b[0m\u001b[0m\n\u001b[0;32m--> 232\u001b[0;31m             \u001b[0;32mreturn\u001b[0m \u001b[0mcaller\u001b[0m\u001b[0;34m(\u001b[0m\u001b[0mfunc\u001b[0m\u001b[0;34m,\u001b[0m \u001b[0;34m*\u001b[0m\u001b[0;34m(\u001b[0m\u001b[0mextras\u001b[0m \u001b[0;34m+\u001b[0m \u001b[0margs\u001b[0m\u001b[0;34m)\u001b[0m\u001b[0;34m,\u001b[0m \u001b[0;34m**\u001b[0m\u001b[0mkw\u001b[0m\u001b[0;34m)\u001b[0m\u001b[0;34m\u001b[0m\u001b[0;34m\u001b[0m\u001b[0m\n\u001b[0m\u001b[1;32m    233\u001b[0m     \u001b[0mfun\u001b[0m\u001b[0;34m.\u001b[0m\u001b[0m__name__\u001b[0m \u001b[0;34m=\u001b[0m \u001b[0mfunc\u001b[0m\u001b[0;34m.\u001b[0m\u001b[0m__name__\u001b[0m\u001b[0;34m\u001b[0m\u001b[0;34m\u001b[0m\u001b[0m\n\u001b[1;32m    234\u001b[0m     \u001b[0mfun\u001b[0m\u001b[0;34m.\u001b[0m\u001b[0m__doc__\u001b[0m \u001b[0;34m=\u001b[0m \u001b[0mfunc\u001b[0m\u001b[0;34m.\u001b[0m\u001b[0m__doc__\u001b[0m\u001b[0;34m\u001b[0m\u001b[0;34m\u001b[0m\u001b[0m\n",
      "\u001b[0;32m/opt/homebrew/anaconda3/lib/python3.9/site-packages/IPython/core/formatters.py\u001b[0m in \u001b[0;36mcatch_format_error\u001b[0;34m(method, self, *args, **kwargs)\u001b[0m\n\u001b[1;32m    222\u001b[0m     \u001b[0;34m\"\"\"show traceback on failed format call\"\"\"\u001b[0m\u001b[0;34m\u001b[0m\u001b[0;34m\u001b[0m\u001b[0m\n\u001b[1;32m    223\u001b[0m     \u001b[0;32mtry\u001b[0m\u001b[0;34m:\u001b[0m\u001b[0;34m\u001b[0m\u001b[0;34m\u001b[0m\u001b[0m\n\u001b[0;32m--> 224\u001b[0;31m         \u001b[0mr\u001b[0m \u001b[0;34m=\u001b[0m \u001b[0mmethod\u001b[0m\u001b[0;34m(\u001b[0m\u001b[0mself\u001b[0m\u001b[0;34m,\u001b[0m \u001b[0;34m*\u001b[0m\u001b[0margs\u001b[0m\u001b[0;34m,\u001b[0m \u001b[0;34m**\u001b[0m\u001b[0mkwargs\u001b[0m\u001b[0;34m)\u001b[0m\u001b[0;34m\u001b[0m\u001b[0;34m\u001b[0m\u001b[0m\n\u001b[0m\u001b[1;32m    225\u001b[0m     \u001b[0;32mexcept\u001b[0m \u001b[0mNotImplementedError\u001b[0m\u001b[0;34m:\u001b[0m\u001b[0;34m\u001b[0m\u001b[0;34m\u001b[0m\u001b[0m\n\u001b[1;32m    226\u001b[0m         \u001b[0;31m# don't warn on NotImplementedErrors\u001b[0m\u001b[0;34m\u001b[0m\u001b[0;34m\u001b[0m\u001b[0m\n",
      "\u001b[0;32m/opt/homebrew/anaconda3/lib/python3.9/site-packages/IPython/core/formatters.py\u001b[0m in \u001b[0;36m__call__\u001b[0;34m(self, obj)\u001b[0m\n\u001b[1;32m    339\u001b[0m                 \u001b[0;32mpass\u001b[0m\u001b[0;34m\u001b[0m\u001b[0;34m\u001b[0m\u001b[0m\n\u001b[1;32m    340\u001b[0m             \u001b[0;32melse\u001b[0m\u001b[0;34m:\u001b[0m\u001b[0;34m\u001b[0m\u001b[0;34m\u001b[0m\u001b[0m\n\u001b[0;32m--> 341\u001b[0;31m                 \u001b[0;32mreturn\u001b[0m \u001b[0mprinter\u001b[0m\u001b[0;34m(\u001b[0m\u001b[0mobj\u001b[0m\u001b[0;34m)\u001b[0m\u001b[0;34m\u001b[0m\u001b[0;34m\u001b[0m\u001b[0m\n\u001b[0m\u001b[1;32m    342\u001b[0m             \u001b[0;31m# Finally look for special method names\u001b[0m\u001b[0;34m\u001b[0m\u001b[0;34m\u001b[0m\u001b[0m\n\u001b[1;32m    343\u001b[0m             \u001b[0mmethod\u001b[0m \u001b[0;34m=\u001b[0m \u001b[0mget_real_method\u001b[0m\u001b[0;34m(\u001b[0m\u001b[0mobj\u001b[0m\u001b[0;34m,\u001b[0m \u001b[0mself\u001b[0m\u001b[0;34m.\u001b[0m\u001b[0mprint_method\u001b[0m\u001b[0;34m)\u001b[0m\u001b[0;34m\u001b[0m\u001b[0;34m\u001b[0m\u001b[0m\n",
      "\u001b[0;32m/opt/homebrew/anaconda3/lib/python3.9/site-packages/IPython/core/pylabtools.py\u001b[0m in \u001b[0;36mprint_figure\u001b[0;34m(fig, fmt, bbox_inches, base64, **kwargs)\u001b[0m\n\u001b[1;32m    149\u001b[0m         \u001b[0mFigureCanvasBase\u001b[0m\u001b[0;34m(\u001b[0m\u001b[0mfig\u001b[0m\u001b[0;34m)\u001b[0m\u001b[0;34m\u001b[0m\u001b[0;34m\u001b[0m\u001b[0m\n\u001b[1;32m    150\u001b[0m \u001b[0;34m\u001b[0m\u001b[0m\n\u001b[0;32m--> 151\u001b[0;31m     \u001b[0mfig\u001b[0m\u001b[0;34m.\u001b[0m\u001b[0mcanvas\u001b[0m\u001b[0;34m.\u001b[0m\u001b[0mprint_figure\u001b[0m\u001b[0;34m(\u001b[0m\u001b[0mbytes_io\u001b[0m\u001b[0;34m,\u001b[0m \u001b[0;34m**\u001b[0m\u001b[0mkw\u001b[0m\u001b[0;34m)\u001b[0m\u001b[0;34m\u001b[0m\u001b[0;34m\u001b[0m\u001b[0m\n\u001b[0m\u001b[1;32m    152\u001b[0m     \u001b[0mdata\u001b[0m \u001b[0;34m=\u001b[0m \u001b[0mbytes_io\u001b[0m\u001b[0;34m.\u001b[0m\u001b[0mgetvalue\u001b[0m\u001b[0;34m(\u001b[0m\u001b[0;34m)\u001b[0m\u001b[0;34m\u001b[0m\u001b[0;34m\u001b[0m\u001b[0m\n\u001b[1;32m    153\u001b[0m     \u001b[0;32mif\u001b[0m \u001b[0mfmt\u001b[0m \u001b[0;34m==\u001b[0m \u001b[0;34m'svg'\u001b[0m\u001b[0;34m:\u001b[0m\u001b[0;34m\u001b[0m\u001b[0;34m\u001b[0m\u001b[0m\n",
      "\u001b[0;32m/opt/homebrew/anaconda3/lib/python3.9/site-packages/matplotlib/backend_bases.py\u001b[0m in \u001b[0;36mprint_figure\u001b[0;34m(self, filename, dpi, facecolor, edgecolor, orientation, format, bbox_inches, pad_inches, bbox_extra_artists, backend, **kwargs)\u001b[0m\n\u001b[1;32m   2232\u001b[0m             \u001b[0;32mif\u001b[0m \u001b[0mbbox_inches\u001b[0m\u001b[0;34m:\u001b[0m\u001b[0;34m\u001b[0m\u001b[0;34m\u001b[0m\u001b[0m\n\u001b[1;32m   2233\u001b[0m                 \u001b[0;32mif\u001b[0m \u001b[0mbbox_inches\u001b[0m \u001b[0;34m==\u001b[0m \u001b[0;34m\"tight\"\u001b[0m\u001b[0;34m:\u001b[0m\u001b[0;34m\u001b[0m\u001b[0;34m\u001b[0m\u001b[0m\n\u001b[0;32m-> 2234\u001b[0;31m                     bbox_inches = self.figure.get_tightbbox(\n\u001b[0m\u001b[1;32m   2235\u001b[0m                         renderer, bbox_extra_artists=bbox_extra_artists)\n\u001b[1;32m   2236\u001b[0m                     \u001b[0;32mif\u001b[0m \u001b[0mpad_inches\u001b[0m \u001b[0;32mis\u001b[0m \u001b[0;32mNone\u001b[0m\u001b[0;34m:\u001b[0m\u001b[0;34m\u001b[0m\u001b[0;34m\u001b[0m\u001b[0m\n",
      "\u001b[0;32m/opt/homebrew/anaconda3/lib/python3.9/site-packages/matplotlib/figure.py\u001b[0m in \u001b[0;36mget_tightbbox\u001b[0;34m(self, renderer, bbox_extra_artists)\u001b[0m\n\u001b[1;32m   1637\u001b[0m \u001b[0;34m\u001b[0m\u001b[0m\n\u001b[1;32m   1638\u001b[0m         \u001b[0;32mfor\u001b[0m \u001b[0ma\u001b[0m \u001b[0;32min\u001b[0m \u001b[0martists\u001b[0m\u001b[0;34m:\u001b[0m\u001b[0;34m\u001b[0m\u001b[0;34m\u001b[0m\u001b[0m\n\u001b[0;32m-> 1639\u001b[0;31m             \u001b[0mbbox\u001b[0m \u001b[0;34m=\u001b[0m \u001b[0ma\u001b[0m\u001b[0;34m.\u001b[0m\u001b[0mget_tightbbox\u001b[0m\u001b[0;34m(\u001b[0m\u001b[0mrenderer\u001b[0m\u001b[0;34m)\u001b[0m\u001b[0;34m\u001b[0m\u001b[0;34m\u001b[0m\u001b[0m\n\u001b[0m\u001b[1;32m   1640\u001b[0m             \u001b[0;32mif\u001b[0m \u001b[0mbbox\u001b[0m \u001b[0;32mis\u001b[0m \u001b[0;32mnot\u001b[0m \u001b[0;32mNone\u001b[0m \u001b[0;32mand\u001b[0m \u001b[0;34m(\u001b[0m\u001b[0mbbox\u001b[0m\u001b[0;34m.\u001b[0m\u001b[0mwidth\u001b[0m \u001b[0;34m!=\u001b[0m \u001b[0;36m0\u001b[0m \u001b[0;32mor\u001b[0m \u001b[0mbbox\u001b[0m\u001b[0;34m.\u001b[0m\u001b[0mheight\u001b[0m \u001b[0;34m!=\u001b[0m \u001b[0;36m0\u001b[0m\u001b[0;34m)\u001b[0m\u001b[0;34m:\u001b[0m\u001b[0;34m\u001b[0m\u001b[0;34m\u001b[0m\u001b[0m\n\u001b[1;32m   1641\u001b[0m                 \u001b[0mbb\u001b[0m\u001b[0;34m.\u001b[0m\u001b[0mappend\u001b[0m\u001b[0;34m(\u001b[0m\u001b[0mbbox\u001b[0m\u001b[0;34m)\u001b[0m\u001b[0;34m\u001b[0m\u001b[0;34m\u001b[0m\u001b[0m\n",
      "\u001b[0;32m/opt/homebrew/anaconda3/lib/python3.9/site-packages/matplotlib/artist.py\u001b[0m in \u001b[0;36mget_tightbbox\u001b[0;34m(self, renderer)\u001b[0m\n\u001b[1;32m    304\u001b[0m             \u001b[0mThe\u001b[0m \u001b[0menclosing\u001b[0m \u001b[0mbounding\u001b[0m \u001b[0mbox\u001b[0m \u001b[0;34m(\u001b[0m\u001b[0;32min\u001b[0m \u001b[0mfigure\u001b[0m \u001b[0mpixel\u001b[0m \u001b[0mcoordinates\u001b[0m\u001b[0;34m)\u001b[0m\u001b[0;34m.\u001b[0m\u001b[0;34m\u001b[0m\u001b[0;34m\u001b[0m\u001b[0m\n\u001b[1;32m    305\u001b[0m         \"\"\"\n\u001b[0;32m--> 306\u001b[0;31m         \u001b[0mbbox\u001b[0m \u001b[0;34m=\u001b[0m \u001b[0mself\u001b[0m\u001b[0;34m.\u001b[0m\u001b[0mget_window_extent\u001b[0m\u001b[0;34m(\u001b[0m\u001b[0mrenderer\u001b[0m\u001b[0;34m)\u001b[0m\u001b[0;34m\u001b[0m\u001b[0;34m\u001b[0m\u001b[0m\n\u001b[0m\u001b[1;32m    307\u001b[0m         \u001b[0;32mif\u001b[0m \u001b[0mself\u001b[0m\u001b[0;34m.\u001b[0m\u001b[0mget_clip_on\u001b[0m\u001b[0;34m(\u001b[0m\u001b[0;34m)\u001b[0m\u001b[0;34m:\u001b[0m\u001b[0;34m\u001b[0m\u001b[0;34m\u001b[0m\u001b[0m\n\u001b[1;32m    308\u001b[0m             \u001b[0mclip_box\u001b[0m \u001b[0;34m=\u001b[0m \u001b[0mself\u001b[0m\u001b[0;34m.\u001b[0m\u001b[0mget_clip_box\u001b[0m\u001b[0;34m(\u001b[0m\u001b[0;34m)\u001b[0m\u001b[0;34m\u001b[0m\u001b[0;34m\u001b[0m\u001b[0m\n",
      "\u001b[0;32m/opt/homebrew/anaconda3/lib/python3.9/site-packages/matplotlib/patches.py\u001b[0m in \u001b[0;36mget_window_extent\u001b[0;34m(self, renderer)\u001b[0m\n\u001b[1;32m    619\u001b[0m \u001b[0;34m\u001b[0m\u001b[0m\n\u001b[1;32m    620\u001b[0m     \u001b[0;32mdef\u001b[0m \u001b[0mget_window_extent\u001b[0m\u001b[0;34m(\u001b[0m\u001b[0mself\u001b[0m\u001b[0;34m,\u001b[0m \u001b[0mrenderer\u001b[0m\u001b[0;34m=\u001b[0m\u001b[0;32mNone\u001b[0m\u001b[0;34m)\u001b[0m\u001b[0;34m:\u001b[0m\u001b[0;34m\u001b[0m\u001b[0;34m\u001b[0m\u001b[0m\n\u001b[0;32m--> 621\u001b[0;31m         \u001b[0;32mreturn\u001b[0m \u001b[0mself\u001b[0m\u001b[0;34m.\u001b[0m\u001b[0mget_path\u001b[0m\u001b[0;34m(\u001b[0m\u001b[0;34m)\u001b[0m\u001b[0;34m.\u001b[0m\u001b[0mget_extents\u001b[0m\u001b[0;34m(\u001b[0m\u001b[0mself\u001b[0m\u001b[0;34m.\u001b[0m\u001b[0mget_transform\u001b[0m\u001b[0;34m(\u001b[0m\u001b[0;34m)\u001b[0m\u001b[0;34m)\u001b[0m\u001b[0;34m\u001b[0m\u001b[0;34m\u001b[0m\u001b[0m\n\u001b[0m\u001b[1;32m    622\u001b[0m \u001b[0;34m\u001b[0m\u001b[0m\n\u001b[1;32m    623\u001b[0m     \u001b[0;32mdef\u001b[0m \u001b[0m_convert_xy_units\u001b[0m\u001b[0;34m(\u001b[0m\u001b[0mself\u001b[0m\u001b[0;34m,\u001b[0m \u001b[0mxy\u001b[0m\u001b[0;34m)\u001b[0m\u001b[0;34m:\u001b[0m\u001b[0;34m\u001b[0m\u001b[0;34m\u001b[0m\u001b[0m\n",
      "\u001b[0;32m/opt/homebrew/anaconda3/lib/python3.9/site-packages/matplotlib/patches.py\u001b[0m in \u001b[0;36mget_transform\u001b[0;34m(self)\u001b[0m\n\u001b[1;32m    271\u001b[0m     \u001b[0;32mdef\u001b[0m \u001b[0mget_transform\u001b[0m\u001b[0;34m(\u001b[0m\u001b[0mself\u001b[0m\u001b[0;34m)\u001b[0m\u001b[0;34m:\u001b[0m\u001b[0;34m\u001b[0m\u001b[0;34m\u001b[0m\u001b[0m\n\u001b[1;32m    272\u001b[0m         \u001b[0;34m\"\"\"Return the `~.transforms.Transform` applied to the `Patch`.\"\"\"\u001b[0m\u001b[0;34m\u001b[0m\u001b[0;34m\u001b[0m\u001b[0m\n\u001b[0;32m--> 273\u001b[0;31m         \u001b[0;32mreturn\u001b[0m \u001b[0mself\u001b[0m\u001b[0;34m.\u001b[0m\u001b[0mget_patch_transform\u001b[0m\u001b[0;34m(\u001b[0m\u001b[0;34m)\u001b[0m \u001b[0;34m+\u001b[0m \u001b[0martist\u001b[0m\u001b[0;34m.\u001b[0m\u001b[0mArtist\u001b[0m\u001b[0;34m.\u001b[0m\u001b[0mget_transform\u001b[0m\u001b[0;34m(\u001b[0m\u001b[0mself\u001b[0m\u001b[0;34m)\u001b[0m\u001b[0;34m\u001b[0m\u001b[0;34m\u001b[0m\u001b[0m\n\u001b[0m\u001b[1;32m    274\u001b[0m \u001b[0;34m\u001b[0m\u001b[0m\n\u001b[1;32m    275\u001b[0m     \u001b[0;32mdef\u001b[0m \u001b[0mget_data_transform\u001b[0m\u001b[0;34m(\u001b[0m\u001b[0mself\u001b[0m\u001b[0;34m)\u001b[0m\u001b[0;34m:\u001b[0m\u001b[0;34m\u001b[0m\u001b[0;34m\u001b[0m\u001b[0m\n",
      "\u001b[0;32m/opt/homebrew/anaconda3/lib/python3.9/site-packages/matplotlib/patches.py\u001b[0m in \u001b[0;36mget_patch_transform\u001b[0;34m(self)\u001b[0m\n\u001b[1;32m    777\u001b[0m         \u001b[0mbbox\u001b[0m \u001b[0;34m=\u001b[0m \u001b[0mself\u001b[0m\u001b[0;34m.\u001b[0m\u001b[0mget_bbox\u001b[0m\u001b[0;34m(\u001b[0m\u001b[0;34m)\u001b[0m\u001b[0;34m\u001b[0m\u001b[0;34m\u001b[0m\u001b[0m\n\u001b[1;32m    778\u001b[0m         return (transforms.BboxTransformTo(bbox)\n\u001b[0;32m--> 779\u001b[0;31m                 + transforms.Affine2D().rotate_deg_around(\n\u001b[0m\u001b[1;32m    780\u001b[0m                     bbox.x0, bbox.y0, self.angle))\n\u001b[1;32m    781\u001b[0m \u001b[0;34m\u001b[0m\u001b[0m\n",
      "\u001b[0;32m/opt/homebrew/anaconda3/lib/python3.9/site-packages/matplotlib/transforms.py\u001b[0m in \u001b[0;36mrotate_deg_around\u001b[0;34m(self, x, y, degrees)\u001b[0m\n\u001b[1;32m   2000\u001b[0m         \u001b[0;31m# Cast to float to avoid wraparound issues with uint8's\u001b[0m\u001b[0;34m\u001b[0m\u001b[0;34m\u001b[0m\u001b[0m\n\u001b[1;32m   2001\u001b[0m         \u001b[0mx\u001b[0m\u001b[0;34m,\u001b[0m \u001b[0my\u001b[0m \u001b[0;34m=\u001b[0m \u001b[0mfloat\u001b[0m\u001b[0;34m(\u001b[0m\u001b[0mx\u001b[0m\u001b[0;34m)\u001b[0m\u001b[0;34m,\u001b[0m \u001b[0mfloat\u001b[0m\u001b[0;34m(\u001b[0m\u001b[0my\u001b[0m\u001b[0;34m)\u001b[0m\u001b[0;34m\u001b[0m\u001b[0;34m\u001b[0m\u001b[0m\n\u001b[0;32m-> 2002\u001b[0;31m         \u001b[0;32mreturn\u001b[0m \u001b[0mself\u001b[0m\u001b[0;34m.\u001b[0m\u001b[0mtranslate\u001b[0m\u001b[0;34m(\u001b[0m\u001b[0;34m-\u001b[0m\u001b[0mx\u001b[0m\u001b[0;34m,\u001b[0m \u001b[0;34m-\u001b[0m\u001b[0my\u001b[0m\u001b[0;34m)\u001b[0m\u001b[0;34m.\u001b[0m\u001b[0mrotate_deg\u001b[0m\u001b[0;34m(\u001b[0m\u001b[0mdegrees\u001b[0m\u001b[0;34m)\u001b[0m\u001b[0;34m.\u001b[0m\u001b[0mtranslate\u001b[0m\u001b[0;34m(\u001b[0m\u001b[0mx\u001b[0m\u001b[0;34m,\u001b[0m \u001b[0my\u001b[0m\u001b[0;34m)\u001b[0m\u001b[0;34m\u001b[0m\u001b[0;34m\u001b[0m\u001b[0m\n\u001b[0m\u001b[1;32m   2003\u001b[0m \u001b[0;34m\u001b[0m\u001b[0m\n\u001b[1;32m   2004\u001b[0m     \u001b[0;32mdef\u001b[0m \u001b[0mtranslate\u001b[0m\u001b[0;34m(\u001b[0m\u001b[0mself\u001b[0m\u001b[0;34m,\u001b[0m \u001b[0mtx\u001b[0m\u001b[0;34m,\u001b[0m \u001b[0mty\u001b[0m\u001b[0;34m)\u001b[0m\u001b[0;34m:\u001b[0m\u001b[0;34m\u001b[0m\u001b[0;34m\u001b[0m\u001b[0m\n",
      "\u001b[0;32m/opt/homebrew/anaconda3/lib/python3.9/site-packages/matplotlib/transforms.py\u001b[0m in \u001b[0;36mtranslate\u001b[0;34m(self, tx, ty)\u001b[0m\n\u001b[1;32m   2010\u001b[0m         \u001b[0;32mand\u001b[0m \u001b[0;34m:\u001b[0m\u001b[0mmeth\u001b[0m\u001b[0;34m:\u001b[0m\u001b[0;31m`\u001b[0m\u001b[0mscale\u001b[0m\u001b[0;31m`\u001b[0m\u001b[0;34m.\u001b[0m\u001b[0;34m\u001b[0m\u001b[0;34m\u001b[0m\u001b[0m\n\u001b[1;32m   2011\u001b[0m         \"\"\"\n\u001b[0;32m-> 2012\u001b[0;31m         \u001b[0mself\u001b[0m\u001b[0;34m.\u001b[0m\u001b[0m_mtx\u001b[0m\u001b[0;34m[\u001b[0m\u001b[0;36m0\u001b[0m\u001b[0;34m,\u001b[0m \u001b[0;36m2\u001b[0m\u001b[0;34m]\u001b[0m \u001b[0;34m+=\u001b[0m \u001b[0mtx\u001b[0m\u001b[0;34m\u001b[0m\u001b[0;34m\u001b[0m\u001b[0m\n\u001b[0m\u001b[1;32m   2013\u001b[0m         \u001b[0mself\u001b[0m\u001b[0;34m.\u001b[0m\u001b[0m_mtx\u001b[0m\u001b[0;34m[\u001b[0m\u001b[0;36m1\u001b[0m\u001b[0;34m,\u001b[0m \u001b[0;36m2\u001b[0m\u001b[0;34m]\u001b[0m \u001b[0;34m+=\u001b[0m \u001b[0mty\u001b[0m\u001b[0;34m\u001b[0m\u001b[0;34m\u001b[0m\u001b[0m\n\u001b[1;32m   2014\u001b[0m         \u001b[0mself\u001b[0m\u001b[0;34m.\u001b[0m\u001b[0minvalidate\u001b[0m\u001b[0;34m(\u001b[0m\u001b[0;34m)\u001b[0m\u001b[0;34m\u001b[0m\u001b[0;34m\u001b[0m\u001b[0m\n",
      "\u001b[0;31mKeyboardInterrupt\u001b[0m: "
     ]
    }
   ],
   "source": [
    "quant_cols = [col for col in df.columns if ((df[col].dtype != 'object') \n",
    "                                             & (len(df[col].unique()) > 10) \n",
    "                                             & ('regionid' not in col) \n",
    "                                             & ('census' not in col))]\n",
    "for col in quant_cols:\n",
    "    sns.histplot(data=df, x=col)\n",
    "    plt.show()"
   ]
  },
  {
   "cell_type": "code",
   "execution_count": null,
   "id": "8bbaaf13",
   "metadata": {},
   "outputs": [],
   "source": [
    "categ_cols = [col for col in df.columns if (col not in quant_cols) and ('census' not in col)]"
   ]
  },
  {
   "cell_type": "code",
   "execution_count": null,
   "id": "c23fa050",
   "metadata": {
    "scrolled": true
   },
   "outputs": [],
   "source": [
    "for col in categ_cols:\n",
    "    print('-' * 25)\n",
    "    print(col.upper())\n",
    "    print(df[col].value_counts())\n",
    "    sns.countplot(data=df, x=col)\n",
    "    plt.show()"
   ]
  },
  {
   "cell_type": "code",
   "execution_count": 9,
   "id": "a80d3e39",
   "metadata": {},
   "outputs": [],
   "source": [
    "def get_row_nulls(df):    \n",
    "    df2 = pd.DataFrame()\n",
    "    df2['n_rows_null'] = df.isnull().sum()\n",
    "    df2['pct_rows_null'] = df.isnull().mean()\n",
    "    df2 = df2.reset_index()\n",
    "    df2 = df2.rename(columns={'index': 'feature'})\n",
    "    return df2"
   ]
  },
  {
   "cell_type": "code",
   "execution_count": 40,
   "id": "5a0505ee",
   "metadata": {},
   "outputs": [
    {
     "data": {
      "text/plain": [
       "2809"
      ]
     },
     "execution_count": 40,
     "metadata": {},
     "output_type": "execute_result"
    }
   ],
   "source": [
    "# how often does finishedfloor1squarefeet match calculatedfinishedsquarefeet for homes that only have one floor\n",
    "(df[df.numberofstories == 1].calculatedfinishedsquarefeet == df[df.numberofstories == 1].finishedfloor1squarefeet).sum()\n",
    "# answer: not very often"
   ]
  },
  {
   "cell_type": "code",
   "execution_count": 80,
   "id": "f7554c04",
   "metadata": {},
   "outputs": [
    {
     "data": {
      "text/plain": [
       "39191"
      ]
     },
     "execution_count": 80,
     "metadata": {},
     "output_type": "execute_result"
    }
   ],
   "source": [
    "df.rawcensustractandblock.nunique()"
   ]
  },
  {
   "cell_type": "code",
   "execution_count": 81,
   "id": "e27576d9",
   "metadata": {},
   "outputs": [
    {
     "data": {
      "text/plain": [
       "39006"
      ]
     },
     "execution_count": 81,
     "metadata": {},
     "output_type": "execute_result"
    }
   ],
   "source": [
    "df.censustractandblock.nunique()"
   ]
  },
  {
   "cell_type": "code",
   "execution_count": 84,
   "id": "dfa585a6",
   "metadata": {},
   "outputs": [
    {
     "data": {
      "text/html": [
       "<div>\n",
       "<style scoped>\n",
       "    .dataframe tbody tr th:only-of-type {\n",
       "        vertical-align: middle;\n",
       "    }\n",
       "\n",
       "    .dataframe tbody tr th {\n",
       "        vertical-align: top;\n",
       "    }\n",
       "\n",
       "    .dataframe thead th {\n",
       "        text-align: right;\n",
       "    }\n",
       "</style>\n",
       "<table border=\"1\" class=\"dataframe\">\n",
       "  <thead>\n",
       "    <tr style=\"text-align: right;\">\n",
       "      <th></th>\n",
       "      <th>rawcensustractandblock</th>\n",
       "      <th>censustractandblock</th>\n",
       "    </tr>\n",
       "  </thead>\n",
       "  <tbody>\n",
       "    <tr>\n",
       "      <th>0</th>\n",
       "      <td>6.059063e+07</td>\n",
       "      <td>6.059063e+13</td>\n",
       "    </tr>\n",
       "    <tr>\n",
       "      <th>1</th>\n",
       "      <td>6.111001e+07</td>\n",
       "      <td>6.111001e+13</td>\n",
       "    </tr>\n",
       "    <tr>\n",
       "      <th>2</th>\n",
       "      <td>6.059022e+07</td>\n",
       "      <td>6.059022e+13</td>\n",
       "    </tr>\n",
       "    <tr>\n",
       "      <th>3</th>\n",
       "      <td>6.037300e+07</td>\n",
       "      <td>6.037300e+13</td>\n",
       "    </tr>\n",
       "    <tr>\n",
       "      <th>4</th>\n",
       "      <td>6.037124e+07</td>\n",
       "      <td>6.037124e+13</td>\n",
       "    </tr>\n",
       "    <tr>\n",
       "      <th>...</th>\n",
       "      <td>...</td>\n",
       "      <td>...</td>\n",
       "    </tr>\n",
       "    <tr>\n",
       "      <th>77574</th>\n",
       "      <td>6.037132e+07</td>\n",
       "      <td>6.037132e+13</td>\n",
       "    </tr>\n",
       "    <tr>\n",
       "      <th>77575</th>\n",
       "      <td>6.037101e+07</td>\n",
       "      <td>6.037101e+13</td>\n",
       "    </tr>\n",
       "    <tr>\n",
       "      <th>77576</th>\n",
       "      <td>6.111008e+07</td>\n",
       "      <td>6.111008e+13</td>\n",
       "    </tr>\n",
       "    <tr>\n",
       "      <th>77577</th>\n",
       "      <td>6.037434e+07</td>\n",
       "      <td>6.037434e+13</td>\n",
       "    </tr>\n",
       "    <tr>\n",
       "      <th>77578</th>\n",
       "      <td>6.037503e+07</td>\n",
       "      <td>6.037503e+13</td>\n",
       "    </tr>\n",
       "  </tbody>\n",
       "</table>\n",
       "<p>77579 rows × 2 columns</p>\n",
       "</div>"
      ],
      "text/plain": [
       "       rawcensustractandblock  censustractandblock\n",
       "0                6.059063e+07         6.059063e+13\n",
       "1                6.111001e+07         6.111001e+13\n",
       "2                6.059022e+07         6.059022e+13\n",
       "3                6.037300e+07         6.037300e+13\n",
       "4                6.037124e+07         6.037124e+13\n",
       "...                       ...                  ...\n",
       "77574            6.037132e+07         6.037132e+13\n",
       "77575            6.037101e+07         6.037101e+13\n",
       "77576            6.111008e+07         6.111008e+13\n",
       "77577            6.037434e+07         6.037434e+13\n",
       "77578            6.037503e+07         6.037503e+13\n",
       "\n",
       "[77579 rows x 2 columns]"
      ]
     },
     "execution_count": 84,
     "metadata": {},
     "output_type": "execute_result"
    }
   ],
   "source": [
    "(df[['rawcensustractandblock', 'censustractandblock']])"
   ]
  },
  {
   "cell_type": "code",
   "execution_count": 10,
   "id": "e3160222",
   "metadata": {
    "scrolled": false
   },
   "outputs": [
    {
     "data": {
      "text/html": [
       "<div>\n",
       "<style scoped>\n",
       "    .dataframe tbody tr th:only-of-type {\n",
       "        vertical-align: middle;\n",
       "    }\n",
       "\n",
       "    .dataframe tbody tr th {\n",
       "        vertical-align: top;\n",
       "    }\n",
       "\n",
       "    .dataframe thead th {\n",
       "        text-align: right;\n",
       "    }\n",
       "</style>\n",
       "<table border=\"1\" class=\"dataframe\">\n",
       "  <thead>\n",
       "    <tr style=\"text-align: right;\">\n",
       "      <th></th>\n",
       "      <th>feature</th>\n",
       "      <th>n_rows_null</th>\n",
       "      <th>pct_rows_null</th>\n",
       "    </tr>\n",
       "  </thead>\n",
       "  <tbody>\n",
       "    <tr>\n",
       "      <th>0</th>\n",
       "      <td>basementsqft</td>\n",
       "      <td>77529</td>\n",
       "      <td>0.999355</td>\n",
       "    </tr>\n",
       "    <tr>\n",
       "      <th>1</th>\n",
       "      <td>bathroomcnt</td>\n",
       "      <td>0</td>\n",
       "      <td>0.000000</td>\n",
       "    </tr>\n",
       "    <tr>\n",
       "      <th>2</th>\n",
       "      <td>bedroomcnt</td>\n",
       "      <td>0</td>\n",
       "      <td>0.000000</td>\n",
       "    </tr>\n",
       "    <tr>\n",
       "      <th>3</th>\n",
       "      <td>calculatedbathnbr</td>\n",
       "      <td>616</td>\n",
       "      <td>0.007940</td>\n",
       "    </tr>\n",
       "    <tr>\n",
       "      <th>4</th>\n",
       "      <td>finishedfloor1squarefeet</td>\n",
       "      <td>71542</td>\n",
       "      <td>0.922183</td>\n",
       "    </tr>\n",
       "    <tr>\n",
       "      <th>5</th>\n",
       "      <td>calculatedfinishedsquarefeet</td>\n",
       "      <td>201</td>\n",
       "      <td>0.002591</td>\n",
       "    </tr>\n",
       "    <tr>\n",
       "      <th>6</th>\n",
       "      <td>finishedsquarefeet12</td>\n",
       "      <td>3656</td>\n",
       "      <td>0.047126</td>\n",
       "    </tr>\n",
       "    <tr>\n",
       "      <th>7</th>\n",
       "      <td>finishedsquarefeet13</td>\n",
       "      <td>77537</td>\n",
       "      <td>0.999459</td>\n",
       "    </tr>\n",
       "    <tr>\n",
       "      <th>8</th>\n",
       "      <td>finishedsquarefeet15</td>\n",
       "      <td>74552</td>\n",
       "      <td>0.960982</td>\n",
       "    </tr>\n",
       "    <tr>\n",
       "      <th>9</th>\n",
       "      <td>finishedsquarefeet50</td>\n",
       "      <td>71542</td>\n",
       "      <td>0.922183</td>\n",
       "    </tr>\n",
       "    <tr>\n",
       "      <th>10</th>\n",
       "      <td>finishedsquarefeet6</td>\n",
       "      <td>77193</td>\n",
       "      <td>0.995024</td>\n",
       "    </tr>\n",
       "    <tr>\n",
       "      <th>11</th>\n",
       "      <td>fips</td>\n",
       "      <td>0</td>\n",
       "      <td>0.000000</td>\n",
       "    </tr>\n",
       "    <tr>\n",
       "      <th>12</th>\n",
       "      <td>fireplacecnt</td>\n",
       "      <td>69290</td>\n",
       "      <td>0.893154</td>\n",
       "    </tr>\n",
       "    <tr>\n",
       "      <th>13</th>\n",
       "      <td>fullbathcnt</td>\n",
       "      <td>616</td>\n",
       "      <td>0.007940</td>\n",
       "    </tr>\n",
       "    <tr>\n",
       "      <th>14</th>\n",
       "      <td>garagecarcnt</td>\n",
       "      <td>52059</td>\n",
       "      <td>0.671045</td>\n",
       "    </tr>\n",
       "    <tr>\n",
       "      <th>15</th>\n",
       "      <td>garagetotalsqft</td>\n",
       "      <td>52059</td>\n",
       "      <td>0.671045</td>\n",
       "    </tr>\n",
       "    <tr>\n",
       "      <th>16</th>\n",
       "      <td>hashottuborspa</td>\n",
       "      <td>76040</td>\n",
       "      <td>0.980162</td>\n",
       "    </tr>\n",
       "    <tr>\n",
       "      <th>17</th>\n",
       "      <td>latitude</td>\n",
       "      <td>0</td>\n",
       "      <td>0.000000</td>\n",
       "    </tr>\n",
       "    <tr>\n",
       "      <th>18</th>\n",
       "      <td>longitude</td>\n",
       "      <td>0</td>\n",
       "      <td>0.000000</td>\n",
       "    </tr>\n",
       "    <tr>\n",
       "      <th>19</th>\n",
       "      <td>lotsizesquarefeet</td>\n",
       "      <td>8258</td>\n",
       "      <td>0.106446</td>\n",
       "    </tr>\n",
       "    <tr>\n",
       "      <th>20</th>\n",
       "      <td>poolcnt</td>\n",
       "      <td>61405</td>\n",
       "      <td>0.791516</td>\n",
       "    </tr>\n",
       "    <tr>\n",
       "      <th>21</th>\n",
       "      <td>poolsizesum</td>\n",
       "      <td>76710</td>\n",
       "      <td>0.988799</td>\n",
       "    </tr>\n",
       "    <tr>\n",
       "      <th>22</th>\n",
       "      <td>propertycountylandusecode</td>\n",
       "      <td>0</td>\n",
       "      <td>0.000000</td>\n",
       "    </tr>\n",
       "    <tr>\n",
       "      <th>23</th>\n",
       "      <td>propertyzoningdesc</td>\n",
       "      <td>27103</td>\n",
       "      <td>0.349360</td>\n",
       "    </tr>\n",
       "    <tr>\n",
       "      <th>24</th>\n",
       "      <td>rawcensustractandblock</td>\n",
       "      <td>0</td>\n",
       "      <td>0.000000</td>\n",
       "    </tr>\n",
       "    <tr>\n",
       "      <th>25</th>\n",
       "      <td>regionidcity</td>\n",
       "      <td>1472</td>\n",
       "      <td>0.018974</td>\n",
       "    </tr>\n",
       "    <tr>\n",
       "      <th>26</th>\n",
       "      <td>regionidcounty</td>\n",
       "      <td>0</td>\n",
       "      <td>0.000000</td>\n",
       "    </tr>\n",
       "    <tr>\n",
       "      <th>27</th>\n",
       "      <td>regionidneighborhood</td>\n",
       "      <td>46605</td>\n",
       "      <td>0.600742</td>\n",
       "    </tr>\n",
       "    <tr>\n",
       "      <th>28</th>\n",
       "      <td>regionidzip</td>\n",
       "      <td>50</td>\n",
       "      <td>0.000645</td>\n",
       "    </tr>\n",
       "    <tr>\n",
       "      <th>29</th>\n",
       "      <td>roomcnt</td>\n",
       "      <td>0</td>\n",
       "      <td>0.000000</td>\n",
       "    </tr>\n",
       "    <tr>\n",
       "      <th>30</th>\n",
       "      <td>threequarterbathnbr</td>\n",
       "      <td>67473</td>\n",
       "      <td>0.869733</td>\n",
       "    </tr>\n",
       "    <tr>\n",
       "      <th>31</th>\n",
       "      <td>unitcnt</td>\n",
       "      <td>26876</td>\n",
       "      <td>0.346434</td>\n",
       "    </tr>\n",
       "    <tr>\n",
       "      <th>32</th>\n",
       "      <td>yardbuildingsqft17</td>\n",
       "      <td>75186</td>\n",
       "      <td>0.969154</td>\n",
       "    </tr>\n",
       "    <tr>\n",
       "      <th>33</th>\n",
       "      <td>yardbuildingsqft26</td>\n",
       "      <td>77509</td>\n",
       "      <td>0.999098</td>\n",
       "    </tr>\n",
       "    <tr>\n",
       "      <th>34</th>\n",
       "      <td>yearbuilt</td>\n",
       "      <td>270</td>\n",
       "      <td>0.003480</td>\n",
       "    </tr>\n",
       "    <tr>\n",
       "      <th>35</th>\n",
       "      <td>numberofstories</td>\n",
       "      <td>59980</td>\n",
       "      <td>0.773147</td>\n",
       "    </tr>\n",
       "    <tr>\n",
       "      <th>36</th>\n",
       "      <td>fireplaceflag</td>\n",
       "      <td>77407</td>\n",
       "      <td>0.997783</td>\n",
       "    </tr>\n",
       "    <tr>\n",
       "      <th>37</th>\n",
       "      <td>structuretaxvaluedollarcnt</td>\n",
       "      <td>115</td>\n",
       "      <td>0.001482</td>\n",
       "    </tr>\n",
       "    <tr>\n",
       "      <th>38</th>\n",
       "      <td>taxvaluedollarcnt</td>\n",
       "      <td>1</td>\n",
       "      <td>0.000013</td>\n",
       "    </tr>\n",
       "    <tr>\n",
       "      <th>39</th>\n",
       "      <td>assessmentyear</td>\n",
       "      <td>0</td>\n",
       "      <td>0.000000</td>\n",
       "    </tr>\n",
       "    <tr>\n",
       "      <th>40</th>\n",
       "      <td>landtaxvaluedollarcnt</td>\n",
       "      <td>2</td>\n",
       "      <td>0.000026</td>\n",
       "    </tr>\n",
       "    <tr>\n",
       "      <th>41</th>\n",
       "      <td>taxamount</td>\n",
       "      <td>5</td>\n",
       "      <td>0.000064</td>\n",
       "    </tr>\n",
       "    <tr>\n",
       "      <th>42</th>\n",
       "      <td>taxdelinquencyflag</td>\n",
       "      <td>74679</td>\n",
       "      <td>0.962619</td>\n",
       "    </tr>\n",
       "    <tr>\n",
       "      <th>43</th>\n",
       "      <td>taxdelinquencyyear</td>\n",
       "      <td>74679</td>\n",
       "      <td>0.962619</td>\n",
       "    </tr>\n",
       "    <tr>\n",
       "      <th>44</th>\n",
       "      <td>censustractandblock</td>\n",
       "      <td>247</td>\n",
       "      <td>0.003184</td>\n",
       "    </tr>\n",
       "    <tr>\n",
       "      <th>45</th>\n",
       "      <td>logerror</td>\n",
       "      <td>0</td>\n",
       "      <td>0.000000</td>\n",
       "    </tr>\n",
       "    <tr>\n",
       "      <th>46</th>\n",
       "      <td>typeconstructiondesc</td>\n",
       "      <td>77356</td>\n",
       "      <td>0.997126</td>\n",
       "    </tr>\n",
       "    <tr>\n",
       "      <th>47</th>\n",
       "      <td>architecturalstyledesc</td>\n",
       "      <td>77372</td>\n",
       "      <td>0.997332</td>\n",
       "    </tr>\n",
       "    <tr>\n",
       "      <th>48</th>\n",
       "      <td>propertylandusedesc</td>\n",
       "      <td>0</td>\n",
       "      <td>0.000000</td>\n",
       "    </tr>\n",
       "    <tr>\n",
       "      <th>49</th>\n",
       "      <td>heatingorsystemdesc</td>\n",
       "      <td>28008</td>\n",
       "      <td>0.361026</td>\n",
       "    </tr>\n",
       "    <tr>\n",
       "      <th>50</th>\n",
       "      <td>airconditioningdesc</td>\n",
       "      <td>52572</td>\n",
       "      <td>0.677658</td>\n",
       "    </tr>\n",
       "    <tr>\n",
       "      <th>51</th>\n",
       "      <td>buildingclassdesc</td>\n",
       "      <td>77564</td>\n",
       "      <td>0.999807</td>\n",
       "    </tr>\n",
       "    <tr>\n",
       "      <th>52</th>\n",
       "      <td>storydesc</td>\n",
       "      <td>77529</td>\n",
       "      <td>0.999355</td>\n",
       "    </tr>\n",
       "  </tbody>\n",
       "</table>\n",
       "</div>"
      ],
      "text/plain": [
       "                         feature  n_rows_null  pct_rows_null\n",
       "0                   basementsqft        77529       0.999355\n",
       "1                    bathroomcnt            0       0.000000\n",
       "2                     bedroomcnt            0       0.000000\n",
       "3              calculatedbathnbr          616       0.007940\n",
       "4       finishedfloor1squarefeet        71542       0.922183\n",
       "5   calculatedfinishedsquarefeet          201       0.002591\n",
       "6           finishedsquarefeet12         3656       0.047126\n",
       "7           finishedsquarefeet13        77537       0.999459\n",
       "8           finishedsquarefeet15        74552       0.960982\n",
       "9           finishedsquarefeet50        71542       0.922183\n",
       "10           finishedsquarefeet6        77193       0.995024\n",
       "11                          fips            0       0.000000\n",
       "12                  fireplacecnt        69290       0.893154\n",
       "13                   fullbathcnt          616       0.007940\n",
       "14                  garagecarcnt        52059       0.671045\n",
       "15               garagetotalsqft        52059       0.671045\n",
       "16                hashottuborspa        76040       0.980162\n",
       "17                      latitude            0       0.000000\n",
       "18                     longitude            0       0.000000\n",
       "19             lotsizesquarefeet         8258       0.106446\n",
       "20                       poolcnt        61405       0.791516\n",
       "21                   poolsizesum        76710       0.988799\n",
       "22     propertycountylandusecode            0       0.000000\n",
       "23            propertyzoningdesc        27103       0.349360\n",
       "24        rawcensustractandblock            0       0.000000\n",
       "25                  regionidcity         1472       0.018974\n",
       "26                regionidcounty            0       0.000000\n",
       "27          regionidneighborhood        46605       0.600742\n",
       "28                   regionidzip           50       0.000645\n",
       "29                       roomcnt            0       0.000000\n",
       "30           threequarterbathnbr        67473       0.869733\n",
       "31                       unitcnt        26876       0.346434\n",
       "32            yardbuildingsqft17        75186       0.969154\n",
       "33            yardbuildingsqft26        77509       0.999098\n",
       "34                     yearbuilt          270       0.003480\n",
       "35               numberofstories        59980       0.773147\n",
       "36                 fireplaceflag        77407       0.997783\n",
       "37    structuretaxvaluedollarcnt          115       0.001482\n",
       "38             taxvaluedollarcnt            1       0.000013\n",
       "39                assessmentyear            0       0.000000\n",
       "40         landtaxvaluedollarcnt            2       0.000026\n",
       "41                     taxamount            5       0.000064\n",
       "42            taxdelinquencyflag        74679       0.962619\n",
       "43            taxdelinquencyyear        74679       0.962619\n",
       "44           censustractandblock          247       0.003184\n",
       "45                      logerror            0       0.000000\n",
       "46          typeconstructiondesc        77356       0.997126\n",
       "47        architecturalstyledesc        77372       0.997332\n",
       "48           propertylandusedesc            0       0.000000\n",
       "49           heatingorsystemdesc        28008       0.361026\n",
       "50           airconditioningdesc        52572       0.677658\n",
       "51             buildingclassdesc        77564       0.999807\n",
       "52                     storydesc        77529       0.999355"
      ]
     },
     "execution_count": 10,
     "metadata": {},
     "output_type": "execute_result"
    }
   ],
   "source": [
    "get_row_nulls(df)"
   ]
  },
  {
   "cell_type": "code",
   "execution_count": 78,
   "id": "1d9e82c1",
   "metadata": {},
   "outputs": [
    {
     "data": {
      "text/plain": [
       "39006"
      ]
     },
     "execution_count": 78,
     "metadata": {},
     "output_type": "execute_result"
    }
   ],
   "source": [
    "df.censustractandblock.nunique()"
   ]
  },
  {
   "cell_type": "code",
   "execution_count": 21,
   "id": "3a538a7f",
   "metadata": {},
   "outputs": [
    {
     "data": {
      "text/plain": [
       "76963"
      ]
     },
     "execution_count": 21,
     "metadata": {},
     "output_type": "execute_result"
    }
   ],
   "source": [
    "(df.calculatedbathnbr == df.bathroomcnt).sum()"
   ]
  },
  {
   "cell_type": "code",
   "execution_count": null,
   "id": "e080f33a",
   "metadata": {},
   "outputs": [],
   "source": []
  },
  {
   "cell_type": "code",
   "execution_count": 11,
   "id": "a8050496",
   "metadata": {},
   "outputs": [],
   "source": [
    "def get_column_nulls(df):   \n",
    "    df2 = pd.DataFrame(df.isnull().sum(axis=1))\n",
    "    df2.columns = ['n_cols_null']\n",
    "    df2['pct_cols_null'] = df.isnull().mean(axis=1)\n",
    "    return df2"
   ]
  },
  {
   "cell_type": "code",
   "execution_count": 12,
   "id": "1e0842b8",
   "metadata": {},
   "outputs": [
    {
     "data": {
      "text/html": [
       "<div>\n",
       "<style scoped>\n",
       "    .dataframe tbody tr th:only-of-type {\n",
       "        vertical-align: middle;\n",
       "    }\n",
       "\n",
       "    .dataframe tbody tr th {\n",
       "        vertical-align: top;\n",
       "    }\n",
       "\n",
       "    .dataframe thead th {\n",
       "        text-align: right;\n",
       "    }\n",
       "</style>\n",
       "<table border=\"1\" class=\"dataframe\">\n",
       "  <thead>\n",
       "    <tr style=\"text-align: right;\">\n",
       "      <th></th>\n",
       "      <th>n_cols_null</th>\n",
       "      <th>pct_cols_null</th>\n",
       "    </tr>\n",
       "  </thead>\n",
       "  <tbody>\n",
       "    <tr>\n",
       "      <th>0</th>\n",
       "      <td>25</td>\n",
       "      <td>0.471698</td>\n",
       "    </tr>\n",
       "    <tr>\n",
       "      <th>1</th>\n",
       "      <td>22</td>\n",
       "      <td>0.415094</td>\n",
       "    </tr>\n",
       "    <tr>\n",
       "      <th>2</th>\n",
       "      <td>24</td>\n",
       "      <td>0.452830</td>\n",
       "    </tr>\n",
       "    <tr>\n",
       "      <th>3</th>\n",
       "      <td>24</td>\n",
       "      <td>0.452830</td>\n",
       "    </tr>\n",
       "    <tr>\n",
       "      <th>4</th>\n",
       "      <td>22</td>\n",
       "      <td>0.415094</td>\n",
       "    </tr>\n",
       "    <tr>\n",
       "      <th>...</th>\n",
       "      <td>...</td>\n",
       "      <td>...</td>\n",
       "    </tr>\n",
       "    <tr>\n",
       "      <th>77574</th>\n",
       "      <td>22</td>\n",
       "      <td>0.415094</td>\n",
       "    </tr>\n",
       "    <tr>\n",
       "      <th>77575</th>\n",
       "      <td>24</td>\n",
       "      <td>0.452830</td>\n",
       "    </tr>\n",
       "    <tr>\n",
       "      <th>77576</th>\n",
       "      <td>21</td>\n",
       "      <td>0.396226</td>\n",
       "    </tr>\n",
       "    <tr>\n",
       "      <th>77577</th>\n",
       "      <td>24</td>\n",
       "      <td>0.452830</td>\n",
       "    </tr>\n",
       "    <tr>\n",
       "      <th>77578</th>\n",
       "      <td>25</td>\n",
       "      <td>0.471698</td>\n",
       "    </tr>\n",
       "  </tbody>\n",
       "</table>\n",
       "<p>77579 rows × 2 columns</p>\n",
       "</div>"
      ],
      "text/plain": [
       "       n_cols_null  pct_cols_null\n",
       "0               25       0.471698\n",
       "1               22       0.415094\n",
       "2               24       0.452830\n",
       "3               24       0.452830\n",
       "4               22       0.415094\n",
       "...            ...            ...\n",
       "77574           22       0.415094\n",
       "77575           24       0.452830\n",
       "77576           21       0.396226\n",
       "77577           24       0.452830\n",
       "77578           25       0.471698\n",
       "\n",
       "[77579 rows x 2 columns]"
      ]
     },
     "execution_count": 12,
     "metadata": {},
     "output_type": "execute_result"
    }
   ],
   "source": [
    "get_column_nulls(df)"
   ]
  },
  {
   "cell_type": "markdown",
   "id": "e3d61d37",
   "metadata": {},
   "source": [
    "#### How to handle null values, by column:\n",
    "- basement_qft: nearly 100% null. Likely null values represent 0 because homes in southern California typically do not have basements. We could therefore impute with 0, but this would not add value to our analysis since nearly all columns would contain the same value. We will drop this column. \n",
    "- calculatedbathnbr: this column is the same as bathroomcnt, so we will drop it \n",
    "- finishedfloor1sqft: 92% null. Further, we should expect this column to match the total square feet of the home in the case of homes with only one floor. However, this is almost never the case, so how useful can this information really be? We will drop this column. \n",
    "- calculatedfinishedsquarefeet: this is a very important column, and it is missing less than 1% of values. Therefore, we will keep the column, but drop all rows where this is null. \n",
    "- finishedsquarefeet12: according to the data dictionary, this column provides the same information as calculatedfinishedsquarefeet, but has many more null values. Therefore we will drop this column. \n",
    "- finishedsquarefeet13: too many nulls, drop column\n",
    "- finishedsquarefeet15: too many nulls, drop column\n",
    "- finishedsquarefeet50: too many nulls, drop column\n",
    "- finishedsquarefeet6: too many nulls, drop column\n",
    "- fireplacecnt: there are no 0 values in this column. it would therefore be reasonable to assume that null values represent homes with no fireplace. We will impute nulls with 0.\n",
    "- fireplaceflag: this column is almost entirely null. further, we have this same information from the fireplacecnt column. we will drop fireplaceflag.\n",
    "- fullbathcnt: provides important info and has very few null values. We will keep this column and drop rows where it is null\n",
    "- garagecarcnt:there are no 0 values in this column. it would therefore be reasonable to assume that null values represent homes with no garage. We will impute nulls with 0.\n",
    "- garagetotalsqft: again, it would be reasonable to assume nulls represent homes with no garage. Further, this column is null every time garagecarcnt is null. We will impute nulls with 0.\n",
    "- hashottuborspa: this is a boolean column, but has no 0 values in it, only 1's. It is therefore reasonable to assume nulls should have been zeros. We will impute with 0.\n",
    "- poolcnt: there are no 0 values in this column. it would therefore be reasonable to assume that null values represent homes with no pool. We will impute nulls with 0.\n",
    "- poolsizesum: too many nulls, drop column\n",
    "- propertyzoningdesc: too many nulls, and too many unique values for a categorical variable. drop for now.\n",
    "- regionidcity: drop for now. later, figure out how to impute by location\n",
    "- threequarterbathnbr: there are no 0 values in this column. it would therefore be reasonable to assume that null values represent homes with no 3/4 bath. We will impute nulls with 0.\n",
    "- yardbuildingsquarefeet17: too many nulls, drop column\n",
    "- yardbuildingsquarefeet26: too many nulls, drop column\n",
    "- yearbuilt: valuable information, not many nulls, keep column, drop rows where null\n",
    "- numberofstories: valuable information, too many nulls. drop for now, determine later how to impute\n",
    "- structuretaxvaluedollarcnt: leaks information about target. drop column\n",
    "- taxvaluedollarcnt: target column. only one null. drop row where null\n",
    "- landtaxvaluedollarcnt: leaks information about target. drop column\n",
    "- taxamount: leaks information about target. drop column\n",
    "- taxdelinquencyflag: reasonable to assume nulls represent no tax delinquency. impute with 0\n",
    "- taxdelinquencyyear: could be useful information, but probably not a huge driver. drop for now. figure out how to impute later\n",
    "- censustractandblock: valuable location information, not many nulls. keep column, drop rows where null.\n",
    "- rawcensustractandblock: appears to provide the same information as censustractandblock. drop column. \n",
    "- typeconstructiondesc: too many nulls, drop column\n",
    "- architecturalstyledesc: too many nulls, drop column\n",
    "- heatingorsystemdesc: valuable info, but significant number of nulls. drop now, impute later.\n",
    "- airconditioningdesc: valuable info, but significant number of nulls, drop now, impute later.\n",
    "- buildingclassdesc: too many nulls, drop column\n",
    "- storydesc: too many nulls, drop column\n",
    "\n",
    "\n",
    "- unitcnt: requres further investigation\n",
    "- lotsizesquarefeet: this is imporant information, with a significant number of nulls (10%). further investigation might find that this is null only in cases where the home does not have a lot (condos, townhomes, etc). requires further analysis before determining how to proceed"
   ]
  },
  {
   "cell_type": "markdown",
   "id": "fdce5a21",
   "metadata": {},
   "source": [
    "#### Remove any properties that are likely to be something other than single unit properties"
   ]
  },
  {
   "cell_type": "code",
   "execution_count": 87,
   "id": "2f47b96e",
   "metadata": {},
   "outputs": [],
   "source": [
    "df = df[df.propertylandusedesc == 'Single Family Residential']"
   ]
  },
  {
   "cell_type": "markdown",
   "id": "d11f87a8",
   "metadata": {},
   "source": [
    "#### Create a function that will drop rows or columns based on the percent of values that are missing: handle_missing_values(df, prop_required_column, prop_required_row). "
   ]
  },
  {
   "cell_type": "code",
   "execution_count": null,
   "id": "b20b6ecf",
   "metadata": {},
   "outputs": [],
   "source": [
    "columns_to_drop = ['calculatedbathnbr',\n",
    "                   'finishedfloor1sqft',\n",
    "                   'finishedsquarefeet12']"
   ]
  }
 ],
 "metadata": {
  "kernelspec": {
   "display_name": "Python 3 (ipykernel)",
   "language": "python",
   "name": "python3"
  },
  "language_info": {
   "codemirror_mode": {
    "name": "ipython",
    "version": 3
   },
   "file_extension": ".py",
   "mimetype": "text/x-python",
   "name": "python",
   "nbconvert_exporter": "python",
   "pygments_lexer": "ipython3",
   "version": "3.9.7"
  }
 },
 "nbformat": 4,
 "nbformat_minor": 5
}
