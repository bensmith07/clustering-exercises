{
 "cells": [
  {
   "cell_type": "code",
   "execution_count": 1,
   "id": "9a3d3ccc",
   "metadata": {},
   "outputs": [],
   "source": [
    "import os\n",
    "import pandas as pd\n",
    "import seaborn as sns\n",
    "import matplotlib.pyplot as plt\n",
    "import env\n",
    "import numpy as np\n",
    "import scipy.stats as stats\n",
    "\n",
    "import wrangle_zillow\n",
    "\n",
    "pd.set_option('display.max_rows', 100)"
   ]
  },
  {
   "cell_type": "code",
   "execution_count": 2,
   "id": "b454da19",
   "metadata": {},
   "outputs": [
    {
     "name": "stdout",
     "output_type": "stream",
     "text": [
      "Reading from local CSV...\n"
     ]
    },
    {
     "name": "stderr",
     "output_type": "stream",
     "text": [
      "/var/folders/zb/3lg9b5xn3831bhkh23bd5bs00000gn/T/ipykernel_40517/3973466862.py:1: DtypeWarning: Columns (65) have mixed types.Specify dtype option on import or set low_memory=False.\n",
      "  df = wrangle_zillow.acquire()\n"
     ]
    }
   ],
   "source": [
    "df = wrangle_zillow.acquire()"
   ]
  },
  {
   "cell_type": "code",
   "execution_count": 3,
   "id": "87a2c802",
   "metadata": {},
   "outputs": [],
   "source": [
    "df = wrangle_zillow.prepare(df)"
   ]
  },
  {
   "cell_type": "code",
   "execution_count": 4,
   "id": "dd24457a",
   "metadata": {},
   "outputs": [],
   "source": [
    "df = wrangle_zillow.handle_missing_values(df, .9, 1)"
   ]
  },
  {
   "cell_type": "code",
   "execution_count": 5,
   "id": "4013735e",
   "metadata": {},
   "outputs": [
    {
     "name": "stdout",
     "output_type": "stream",
     "text": [
      "train\t n = 29366\n",
      "test\t n = 10489\n",
      "validate n = 12586\n"
     ]
    }
   ],
   "source": [
    "train, test, validate = wrangle_zillow.train_test_validate_split(df)"
   ]
  },
  {
   "cell_type": "code",
   "execution_count": 6,
   "id": "a2e9b4d7",
   "metadata": {},
   "outputs": [
    {
     "name": "stdout",
     "output_type": "stream",
     "text": [
      "train\t n = 23814\n",
      "test\t n = 8536\n",
      "validate n = 10191\n"
     ]
    },
    {
     "name": "stderr",
     "output_type": "stream",
     "text": [
      "/Users/bfs7/codeup-data-science/clustering-exercises/wrangle_zillow.py:155: SettingWithCopyWarning: \n",
      "A value is trying to be set on a copy of a slice from a DataFrame.\n",
      "Try using .loc[row_indexer,col_indexer] = value instead\n",
      "\n",
      "See the caveats in the documentation: https://pandas.pydata.org/pandas-docs/stable/user_guide/indexing.html#returning-a-view-versus-a-copy\n",
      "  test['outlier'] = False\n",
      "/Users/bfs7/codeup-data-science/clustering-exercises/wrangle_zillow.py:168: SettingWithCopyWarning: \n",
      "A value is trying to be set on a copy of a slice from a DataFrame.\n",
      "Try using .loc[row_indexer,col_indexer] = value instead\n",
      "\n",
      "See the caveats in the documentation: https://pandas.pydata.org/pandas-docs/stable/user_guide/indexing.html#returning-a-view-versus-a-copy\n",
      "  test['outlier'] = np.where(((test[col] < lower_bound) | (test[col] > upper_bound)) & (test.outlier == False), True, test.outlier)\n"
     ]
    }
   ],
   "source": [
    "quant_cols = [col for col in df.columns if ((df[col].dtype != 'object') \n",
    "                                             & (len(df[col].unique()) > 10) \n",
    "                                             & ('regionid' not in col) \n",
    "                                             & ('census' not in col))]\n",
    "\n",
    "train, validate, test = wrangle_zillow.remove_outliers(train, validate, test, 1.5, quant_cols)"
   ]
  },
  {
   "cell_type": "code",
   "execution_count": 7,
   "id": "45129a2f",
   "metadata": {},
   "outputs": [
    {
     "name": "stdout",
     "output_type": "stream",
     "text": [
      "<class 'pandas.core.frame.DataFrame'>\n",
      "Int64Index: 52441 entries, 0 to 77578\n",
      "Data columns (total 21 columns):\n",
      " #   Column                     Non-Null Count  Dtype  \n",
      "---  ------                     --------------  -----  \n",
      " 0   bathroomcnt                52441 non-null  float64\n",
      " 1   bedroomcnt                 52441 non-null  float64\n",
      " 2   fips                       52441 non-null  float64\n",
      " 3   fireplacecnt               52441 non-null  float64\n",
      " 4   garagecarcnt               52441 non-null  float64\n",
      " 5   garagetotalsqft            52441 non-null  float64\n",
      " 6   hashottuborspa             52441 non-null  float64\n",
      " 7   latitude                   52441 non-null  float64\n",
      " 8   longitude                  52441 non-null  float64\n",
      " 9   poolcnt                    52441 non-null  float64\n",
      " 10  propertycountylandusecode  52441 non-null  object \n",
      " 11  regionidcounty             52441 non-null  float64\n",
      " 12  roomcnt                    52441 non-null  float64\n",
      " 13  threequarterbathnbr        52441 non-null  float64\n",
      " 14  assessmentyear             52441 non-null  float64\n",
      " 15  taxdelinquencyflag         52441 non-null  object \n",
      " 16  logerror                   52441 non-null  float64\n",
      " 17  propertylandusedesc        52441 non-null  object \n",
      " 18  has_garage                 52441 non-null  int64  \n",
      " 19  has_pool                   52441 non-null  int64  \n",
      " 20  has_fireplace              52441 non-null  int64  \n",
      "dtypes: float64(15), int64(3), object(3)\n",
      "memory usage: 8.8+ MB\n"
     ]
    }
   ],
   "source": [
    "df.info()"
   ]
  },
  {
   "cell_type": "markdown",
   "id": "8aab0a20",
   "metadata": {},
   "source": [
    "#### 1. Does logerror differ across counties (fips)?\n",
    "\n"
   ]
  },
  {
   "cell_type": "code",
   "execution_count": 8,
   "id": "09af1f86",
   "metadata": {},
   "outputs": [
    {
     "data": {
      "image/png": "[encoded data removed]",
      "text/plain": [
       "<Figure size 432x288 with 1 Axes>"
      ]
     },
     "metadata": {
      "needs_background": "light"
     },
     "output_type": "display_data"
    }
   ],
   "source": [
    "# visualize\n",
    "sns.boxplot(data=train, x='fips', y='logerror')\n",
    "plt.show()"
   ]
  },
  {
   "cell_type": "code",
   "execution_count": 9,
   "id": "368be487",
   "metadata": {},
   "outputs": [
    {
     "data": {
      "image/png": "[encoded data removed]",
      "text/plain": [
       "<Figure size 432x288 with 1 Axes>"
      ]
     },
     "metadata": {
      "needs_background": "light"
     },
     "output_type": "display_data"
    },
    {
     "data": {
      "image/png": "[encoded data removed]",
      "text/plain": [
       "<Figure size 432x288 with 1 Axes>"
      ]
     },
     "metadata": {
      "needs_background": "light"
     },
     "output_type": "display_data"
    },
    {
     "data": {
      "image/png": "[encoded data removed]",
      "text/plain": [
       "<Figure size 432x288 with 1 Axes>"
      ]
     },
     "metadata": {
      "needs_background": "light"
     },
     "output_type": "display_data"
    }
   ],
   "source": [
    "# verify assumptions: normal distribution\n",
    "for fips_code in train.fips.unique():\n",
    "    county = train[train.fips == fips_code]\n",
    "    sns.histplot(county.logerror)\n",
    "    plt.show()"
   ]
  },
  {
   "cell_type": "code",
   "execution_count": 10,
   "id": "7449d666",
   "metadata": {},
   "outputs": [
    {
     "name": "stdout",
     "output_type": "stream",
     "text": [
      "equal variances\n"
     ]
    }
   ],
   "source": [
    "county1 = df[df.fips == df.fips.unique()[0]]\n",
    "county2 = df[df.fips == df.fips.unique()[1]]\n",
    "county3 = df[df.fips == df.fips.unique()[2]]\n",
    "\n",
    "alpha = .05\n",
    "stat, p = stats.levene(county1.logerror, county2.logerror, county3.logerror)\n",
    "if p < alpha:\n",
    "    print('equal variances')\n",
    "else: print('unequal variances')"
   ]
  },
  {
   "cell_type": "code",
   "execution_count": 11,
   "id": "6ea2392d",
   "metadata": {},
   "outputs": [
    {
     "data": {
      "text/plain": [
       "(20.039243491788056, 1.9970607325378107e-09)"
      ]
     },
     "execution_count": 11,
     "metadata": {},
     "output_type": "execute_result"
    }
   ],
   "source": [
    "alpha = .05\n",
    "stat, p = stats.f_oneway(county1.logerror, county2.logerror, county3.logerror)\n",
    "stat, p"
   ]
  },
  {
   "cell_type": "code",
   "execution_count": 12,
   "id": "4cff2ac4",
   "metadata": {},
   "outputs": [
    {
     "name": "stdout",
     "output_type": "stream",
     "text": [
      "reject H0\n"
     ]
    }
   ],
   "source": [
    "if p < alpha:\n",
    "    print('reject H0')\n",
    "else: print('fail to reject H0')"
   ]
  },
  {
   "cell_type": "markdown",
   "id": "5c696a78",
   "metadata": {},
   "source": [
    "We reject the null hypothesis and proceed under the assumption that there is a difference in logerror among the three counties in our dataset"
   ]
  },
  {
   "cell_type": "markdown",
   "id": "9fa79ca1",
   "metadata": {},
   "source": [
    "#### 2. Does logerror differ for properties that have garages vs. those that don't?"
   ]
  },
  {
   "cell_type": "code",
   "execution_count": 13,
   "id": "e100633c",
   "metadata": {},
   "outputs": [],
   "source": [
    "# get the data\n",
    "garages = train[train.has_garage == 1]\n",
    "no_garages = train[train.has_garage == 0]"
   ]
  },
  {
   "cell_type": "code",
   "execution_count": 14,
   "id": "9afbd3e0",
   "metadata": {},
   "outputs": [
    {
     "data": {
      "image/png": "[encoded data removed]",
      "text/plain": [
       "<Figure size 432x288 with 1 Axes>"
      ]
     },
     "metadata": {
      "needs_background": "light"
     },
     "output_type": "display_data"
    }
   ],
   "source": [
    "# visualize:\n",
    "sns.boxplot(data=train, \n",
    "            x='has_garage',\n",
    "            y='logerror')\n",
    "plt.show()"
   ]
  },
  {
   "cell_type": "code",
   "execution_count": 15,
   "id": "a22400c6",
   "metadata": {},
   "outputs": [
    {
     "data": {
      "image/png": "[encoded data removed]",
      "text/plain": [
       "<Figure size 432x288 with 1 Axes>"
      ]
     },
     "metadata": {
      "needs_background": "light"
     },
     "output_type": "display_data"
    },
    {
     "data": {
      "image/png": "[encoded data removed]",
      "text/plain": [
       "<Figure size 432x288 with 1 Axes>"
      ]
     },
     "metadata": {
      "needs_background": "light"
     },
     "output_type": "display_data"
    }
   ],
   "source": [
    "# verify assumptions: normal distribution\n",
    "for subset in [garages, no_garages]:\n",
    "    sns.histplot(subset.logerror)\n",
    "    plt.show()"
   ]
  },
  {
   "cell_type": "code",
   "execution_count": 16,
   "id": "3b7c03b9",
   "metadata": {},
   "outputs": [
    {
     "name": "stdout",
     "output_type": "stream",
     "text": [
      "equal variances\n"
     ]
    }
   ],
   "source": [
    "# verify assumptions: equal variances:\n",
    "alpha = .05\n",
    "stat, p = stats.levene(garages.logerror, no_garages.logerror)\n",
    "if p < alpha:\n",
    "    print('equal variances')\n",
    "else: print('unequal variances')"
   ]
  },
  {
   "cell_type": "code",
   "execution_count": 17,
   "id": "2ab70e43",
   "metadata": {},
   "outputs": [
    {
     "data": {
      "text/plain": [
       "(188.86567026470382, 4.084804311036769e-06)"
      ]
     },
     "execution_count": 17,
     "metadata": {},
     "output_type": "execute_result"
    }
   ],
   "source": [
    "# perform the test\n",
    "alpha = .05\n",
    "t, p = stats.ttest_ind(garages.logerror, no_garages.logerror)\n",
    "stat, p"
   ]
  },
  {
   "cell_type": "code",
   "execution_count": 18,
   "id": "d2d505e7",
   "metadata": {},
   "outputs": [
    {
     "name": "stdout",
     "output_type": "stream",
     "text": [
      "reject H0\n"
     ]
    }
   ],
   "source": [
    "if p < alpha:\n",
    "    print('reject H0')\n",
    "else: print('fail to reject H0')"
   ]
  },
  {
   "cell_type": "markdown",
   "id": "33151288",
   "metadata": {},
   "source": [
    "We reject the null hypothesis and proceed under the assumption that there is a difference in logerror for properties with garages compared to those without"
   ]
  },
  {
   "cell_type": "markdown",
   "id": "04b3b05f",
   "metadata": {},
   "source": [
    "#### 3. Does logerror differ for properties that have pools vs those that don't"
   ]
  },
  {
   "cell_type": "code",
   "execution_count": 19,
   "id": "3625f9cb",
   "metadata": {},
   "outputs": [
    {
     "data": {
      "image/png": "[encoded data removed]",
      "text/plain": [
       "<Figure size 432x288 with 1 Axes>"
      ]
     },
     "metadata": {
      "needs_background": "light"
     },
     "output_type": "display_data"
    }
   ],
   "source": [
    "# visualize\n",
    "sns.boxplot(data=train, x='has_pool', y='logerror')\n",
    "plt.show()"
   ]
  },
  {
   "cell_type": "code",
   "execution_count": 20,
   "id": "4c252a69",
   "metadata": {},
   "outputs": [],
   "source": [
    "# get data\n",
    "pools = train[train.has_pool == 1]\n",
    "no_pools = train[train.has_pool == 0]"
   ]
  },
  {
   "cell_type": "code",
   "execution_count": 21,
   "id": "2155a206",
   "metadata": {},
   "outputs": [
    {
     "data": {
      "image/png": "[encoded data removed]",
      "text/plain": [
       "<Figure size 432x288 with 1 Axes>"
      ]
     },
     "metadata": {
      "needs_background": "light"
     },
     "output_type": "display_data"
    },
    {
     "data": {
      "image/png": "[encoded data removed]",
      "text/plain": [
       "<Figure size 432x288 with 1 Axes>"
      ]
     },
     "metadata": {
      "needs_background": "light"
     },
     "output_type": "display_data"
    }
   ],
   "source": [
    "# verify assumptions: normal distribution\n",
    "for subset in [pools, no_pools]:\n",
    "    sns.histplot(subset.logerror)\n",
    "    plt.show()"
   ]
  },
  {
   "cell_type": "code",
   "execution_count": 22,
   "id": "35130904",
   "metadata": {},
   "outputs": [
    {
     "name": "stdout",
     "output_type": "stream",
     "text": [
      "equal variances\n"
     ]
    }
   ],
   "source": [
    "# verify assumptions: equal variances:\n",
    "alpha = .05\n",
    "stat, p = stats.levene(pools.logerror, no_pools.logerror)\n",
    "if p < alpha:\n",
    "    print('equal variances')\n",
    "else: print('unequal variances')"
   ]
  },
  {
   "cell_type": "code",
   "execution_count": 23,
   "id": "4196e005",
   "metadata": {},
   "outputs": [
    {
     "data": {
      "text/plain": [
       "(6.246481881528061, 2.7099346756423845e-09)"
      ]
     },
     "execution_count": 23,
     "metadata": {},
     "output_type": "execute_result"
    }
   ],
   "source": [
    "# perform the test\n",
    "alpha = .05\n",
    "t, p = stats.ttest_ind(pools.logerror, no_pools.logerror)\n",
    "stat, p"
   ]
  },
  {
   "cell_type": "code",
   "execution_count": 24,
   "id": "22bc9a4b",
   "metadata": {},
   "outputs": [
    {
     "name": "stdout",
     "output_type": "stream",
     "text": [
      "reject H0\n"
     ]
    }
   ],
   "source": [
    "if p < alpha:\n",
    "    print('reject H0')\n",
    "else: print('fail to reject H0')"
   ]
  },
  {
   "cell_type": "markdown",
   "id": "23ffa2a3",
   "metadata": {},
   "source": [
    "We reject the null hypothesis and proceed under the assumption that there is a difference in logerror for properties with pools compared to those without"
   ]
  },
  {
   "cell_type": "markdown",
   "id": "03dc9a1f",
   "metadata": {},
   "source": [
    "#### 4. Does logerror differ for properties that have a hot tub or spa vs those that don't?\n"
   ]
  },
  {
   "cell_type": "code",
   "execution_count": 25,
   "id": "f4a09bca",
   "metadata": {},
   "outputs": [
    {
     "data": {
      "image/png": "[encoded data removed]",
      "text/plain": [
       "<Figure size 432x288 with 1 Axes>"
      ]
     },
     "metadata": {
      "needs_background": "light"
     },
     "output_type": "display_data"
    }
   ],
   "source": [
    "# visualize\n",
    "sns.boxplot(data=train, x='hashottuborspa', y='logerror')\n",
    "plt.show()"
   ]
  },
  {
   "cell_type": "code",
   "execution_count": 26,
   "id": "9c26fab1",
   "metadata": {},
   "outputs": [],
   "source": [
    "# get the data\n",
    "hottubs = train[train.hashottuborspa == 1]\n",
    "no_hottubs = train[train.hashottuborspa == 0]"
   ]
  },
  {
   "cell_type": "code",
   "execution_count": 27,
   "id": "6bcacfdd",
   "metadata": {},
   "outputs": [
    {
     "data": {
      "image/png": "[encoded data removed]",
      "text/plain": [
       "<Figure size 432x288 with 1 Axes>"
      ]
     },
     "metadata": {
      "needs_background": "light"
     },
     "output_type": "display_data"
    },
    {
     "data": {
      "image/png": "[encoded data removed]",
      "text/plain": [
       "<Figure size 432x288 with 1 Axes>"
      ]
     },
     "metadata": {
      "needs_background": "light"
     },
     "output_type": "display_data"
    }
   ],
   "source": [
    "# verify assumptions: normal distribution\n",
    "for subset in [hottubs, no_hottubs]:\n",
    "    sns.histplot(subset.logerror)\n",
    "    plt.show()"
   ]
  },
  {
   "cell_type": "code",
   "execution_count": 28,
   "id": "82f0ad96",
   "metadata": {},
   "outputs": [
    {
     "name": "stdout",
     "output_type": "stream",
     "text": [
      "unequal variances\n"
     ]
    }
   ],
   "source": [
    "# verify assumptions: equal variances:\n",
    "alpha = .05\n",
    "stat, p = stats.levene(hottubs.logerror, no_hottubs.logerror)\n",
    "if p < alpha:\n",
    "    print('equal variances')\n",
    "else: print('unequal variances')"
   ]
  },
  {
   "cell_type": "code",
   "execution_count": 29,
   "id": "f4b43e81",
   "metadata": {},
   "outputs": [
    {
     "data": {
      "text/plain": [
       "(7631071.0, 0.2060613540215025)"
      ]
     },
     "execution_count": 29,
     "metadata": {},
     "output_type": "execute_result"
    }
   ],
   "source": [
    "# perform the test (unequal variances >> non-parametric test == Mann-Whitney)\n",
    "alpha = .05\n",
    "stat, p = stats.mannwhitneyu(hottubs.logerror, no_hottubs.logerror)\n",
    "stat, p"
   ]
  },
  {
   "cell_type": "code",
   "execution_count": 30,
   "id": "15c90c1c",
   "metadata": {},
   "outputs": [
    {
     "name": "stdout",
     "output_type": "stream",
     "text": [
      "fail to reject H0\n"
     ]
    }
   ],
   "source": [
    "if p < alpha:\n",
    "    print('reject H0')\n",
    "else: print('fail to reject H0')"
   ]
  },
  {
   "cell_type": "markdown",
   "id": "9cf4855a",
   "metadata": {},
   "source": [
    "We fail to reject the null hypothesis and we proceed under the assumption that:\n",
    "    there is no difference in logerror for properties with and without hot tubs / spas"
   ]
  },
  {
   "cell_type": "markdown",
   "id": "b77fdc7e",
   "metadata": {},
   "source": [
    "#### 5. Is there a difference in logerror for properties with fireplaces vs those without?"
   ]
  },
  {
   "cell_type": "code",
   "execution_count": 31,
   "id": "7fe19764",
   "metadata": {},
   "outputs": [
    {
     "data": {
      "image/png": "[encoded data removed]",
      "text/plain": [
       "<Figure size 432x288 with 1 Axes>"
      ]
     },
     "metadata": {
      "needs_background": "light"
     },
     "output_type": "display_data"
    }
   ],
   "source": [
    "# visualize:\n",
    "sns.boxplot(data=train, \n",
    "            x='has_fireplace',\n",
    "            y='logerror')\n",
    "plt.show()"
   ]
  },
  {
   "cell_type": "code",
   "execution_count": 32,
   "id": "b1cf17b8",
   "metadata": {},
   "outputs": [],
   "source": [
    "# get the data\n",
    "fireplaces = train[train.has_fireplace == 1]\n",
    "no_fireplaces = train[train.has_fireplace == 0]"
   ]
  },
  {
   "cell_type": "code",
   "execution_count": 33,
   "id": "d650324b",
   "metadata": {},
   "outputs": [
    {
     "data": {
      "image/png": "[encoded data removed]",
      "text/plain": [
       "<Figure size 432x288 with 1 Axes>"
      ]
     },
     "metadata": {
      "needs_background": "light"
     },
     "output_type": "display_data"
    },
    {
     "data": {
      "image/png": "[encoded data removed]",
      "text/plain": [
       "<Figure size 432x288 with 1 Axes>"
      ]
     },
     "metadata": {
      "needs_background": "light"
     },
     "output_type": "display_data"
    }
   ],
   "source": [
    "# verify assumptions: normal distribution\n",
    "for subset in [fireplaces, no_fireplaces]:\n",
    "    sns.histplot(subset.logerror)\n",
    "    plt.show()"
   ]
  },
  {
   "cell_type": "code",
   "execution_count": 34,
   "id": "79999727",
   "metadata": {},
   "outputs": [
    {
     "name": "stdout",
     "output_type": "stream",
     "text": [
      "unequal variances\n"
     ]
    }
   ],
   "source": [
    "# verify assumptions: equal variances:\n",
    "alpha = .05\n",
    "stat, p = stats.levene(hottubs.logerror, no_hottubs.logerror)\n",
    "if p < alpha:\n",
    "    print('equal variances')\n",
    "else: print('unequal variances')"
   ]
  },
  {
   "cell_type": "code",
   "execution_count": 35,
   "id": "63f79a63",
   "metadata": {},
   "outputs": [
    {
     "data": {
      "text/plain": [
       "(32922818.0, 0.06980066312999443)"
      ]
     },
     "execution_count": 35,
     "metadata": {},
     "output_type": "execute_result"
    }
   ],
   "source": [
    "# perform the test (unequal variances >> non-parametric test == Mann-Whitney)\n",
    "alpha = .05\n",
    "stat, p = stats.mannwhitneyu(fireplaces.logerror, no_fireplaces.logerror)\n",
    "stat, p"
   ]
  },
  {
   "cell_type": "code",
   "execution_count": 36,
   "id": "c5f38dfe",
   "metadata": {},
   "outputs": [
    {
     "name": "stdout",
     "output_type": "stream",
     "text": [
      "fail to reject H0\n"
     ]
    }
   ],
   "source": [
    "if p < alpha:\n",
    "    print('reject H0')\n",
    "else: print('fail to reject H0')"
   ]
  },
  {
   "cell_type": "markdown",
   "id": "8bb79112",
   "metadata": {},
   "source": [
    "We fail to reject the null hypothesis and proceed under the assumption that there is no difference in logerror for properties with fireplaces vs those without. "
   ]
  },
  {
   "cell_type": "markdown",
   "id": "82d4dcb3",
   "metadata": {},
   "source": [
    "### BONUS: Compute the mean(logerror) by zipcode and the overall mean(logerror). Write a loop that will run a t-test between the overall mean and the mean for each zip code. We want to identify the zip codes where the error is significantly higher or lower than the expected error. "
   ]
  },
  {
   "cell_type": "code",
   "execution_count": 37,
   "id": "24c3cb26",
   "metadata": {},
   "outputs": [
    {
     "name": "stdout",
     "output_type": "stream",
     "text": [
      "Reading from local CSV...\n"
     ]
    },
    {
     "name": "stderr",
     "output_type": "stream",
     "text": [
      "/var/folders/zb/3lg9b5xn3831bhkh23bd5bs00000gn/T/ipykernel_40517/3973466862.py:1: DtypeWarning: Columns (65) have mixed types.Specify dtype option on import or set low_memory=False.\n",
      "  df = wrangle_zillow.acquire()\n"
     ]
    }
   ],
   "source": [
    "df = wrangle_zillow.acquire()"
   ]
  },
  {
   "cell_type": "code",
   "execution_count": 38,
   "id": "00749870",
   "metadata": {},
   "outputs": [],
   "source": [
    "df = df[['regionidzip', 'logerror']]\n",
    "df = df.dropna()"
   ]
  },
  {
   "cell_type": "code",
   "execution_count": 39,
   "id": "fcc67def",
   "metadata": {},
   "outputs": [
    {
     "name": "stdout",
     "output_type": "stream",
     "text": [
      "train\t n = 43416\n",
      "test\t n = 15506\n",
      "validate n = 18607\n"
     ]
    }
   ],
   "source": [
    "train, test, validate = wrangle_zillow.train_test_validate_split(df)"
   ]
  },
  {
   "cell_type": "code",
   "execution_count": 40,
   "id": "2874fe53",
   "metadata": {},
   "outputs": [
    {
     "name": "stderr",
     "output_type": "stream",
     "text": [
      "/opt/homebrew/anaconda3/lib/python3.9/site-packages/numpy/core/fromnumeric.py:3702: RuntimeWarning: Degrees of freedom <= 0 for slice\n",
      "  return _methods._var(a, axis=axis, dtype=dtype, out=out, ddof=ddof,\n",
      "/opt/homebrew/anaconda3/lib/python3.9/site-packages/numpy/core/_methods.py:253: RuntimeWarning: invalid value encountered in double_scalars\n",
      "  ret = ret.dtype.type(ret / rcount)\n"
     ]
    }
   ],
   "source": [
    "alpha = .05\n",
    "zipcode_list = [] # for storing zipcodes whose errors are significantly different from average\n",
    "for zipcode in train.regionidzip.unique():\n",
    "    subset = df[df.regionidzip == zipcode]\n",
    "    _, p = stats.ttest_1samp(subset.logerror, train.logerror.mean())\n",
    "    if p < .05:\n",
    "        zipcode_list.append(zipcode)"
   ]
  },
  {
   "cell_type": "code",
   "execution_count": 41,
   "id": "58222e63",
   "metadata": {},
   "outputs": [
    {
     "name": "stdout",
     "output_type": "stream",
     "text": [
      "96339\n",
      "96996\n",
      "96387\n",
      "96244\n",
      "96974\n",
      "97039\n",
      "97068\n",
      "96349\n",
      "96104\n",
      "95984\n",
      "96957\n",
      "96047\n",
      "96190\n",
      "96124\n",
      "96095\n",
      "96137\n",
      "96492\n",
      "96117\n",
      "96241\n",
      "96022\n",
      "96378\n",
      "96951\n",
      "96993\n",
      "96356\n",
      "96294\n",
      "96985\n",
      "96336\n",
      "96197\n",
      "96415\n",
      "96020\n",
      "97064\n",
      "96325\n",
      "96171\n",
      "96475\n",
      "96465\n",
      "96217\n",
      "96026\n",
      "96097\n",
      "96120\n",
      "97051\n",
      "95989\n",
      "96426\n",
      "97298\n",
      "96218\n",
      "96152\n",
      "96327\n",
      "96043\n",
      "96517\n",
      "96228\n",
      "96007\n",
      "96293\n",
      "96379\n",
      "96216\n",
      "96508\n",
      "96107\n",
      "96280\n",
      "96326\n",
      "96103\n",
      "96946\n",
      "96004\n",
      "96038\n",
      "96245\n",
      "96478\n"
     ]
    }
   ],
   "source": [
    "# zipcodes where the logerror is significantly different that the overall error:\n",
    "for zipcode in zipcode_list:\n",
    "    print(int(zipcode))"
   ]
  },
  {
   "cell_type": "code",
   "execution_count": null,
   "id": "9d4d4151",
   "metadata": {},
   "outputs": [],
   "source": []
  }
 ],
 "metadata": {
  "kernelspec": {
   "display_name": "Python 3 (ipykernel)",
   "language": "python",
   "name": "python3"
  },
  "language_info": {
   "codemirror_mode": {
    "name": "ipython",
    "version": 3
   },
   "file_extension": ".py",
   "mimetype": "text/x-python",
   "name": "python",
   "nbconvert_exporter": "python",
   "pygments_lexer": "ipython3",
   "version": "3.9.7"
  }
 },
 "nbformat": 4,
 "nbformat_minor": 5
}
