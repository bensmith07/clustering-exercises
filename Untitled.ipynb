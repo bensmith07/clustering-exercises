{
 "cells": [
  {
   "cell_type": "code",
   "execution_count": 8,
   "id": "09a2e641",
   "metadata": {},
   "outputs": [],
   "source": [
    "import os\n",
    "import pandas as pd\n",
    "import seaborn as sns\n",
    "import matplotlib.pyplot as plt\n",
    "import env"
   ]
  },
  {
   "cell_type": "code",
   "execution_count": 9,
   "id": "5c3e4261",
   "metadata": {},
   "outputs": [],
   "source": [
    "# trying a new query to see if i can get the df without duplicate parcelids"
   ]
  },
  {
   "cell_type": "code",
   "execution_count": 10,
   "id": "f5720711",
   "metadata": {},
   "outputs": [],
   "source": [
    "def zillow_2017_data():\n",
    "    '''\n",
    "    This function uses a SQL query to access the Codeup MySQL database and join \n",
    "    together all the relevant data from the zillow database.\n",
    "    The data obtained includes all properties in the dataset which had a transaction in 2017.\n",
    "    The function caches a csv in the local directory for later use. \n",
    "    '''\n",
    "    # establish a filename for the local csv\n",
    "    filename = 'zillow2.csv'\n",
    "    # check to see if a local copy already exists. \n",
    "    if os.path.exists(filename):\n",
    "        print('Reading from local CSV...')\n",
    "        # if so, return the local csv\n",
    "        return pd.read_csv(filename)\n",
    "    # otherwise, pull the data from the database:\n",
    "    # establish database url\n",
    "    url = env.get_db_url('zillow')\n",
    "    # establish query\n",
    "    sql = '''\n",
    "            SELECT prop.*,\n",
    "                   pred.logerror,\n",
    "                   const.typeconstructiondesc,\n",
    "                   arch.architecturalstyledesc,\n",
    "                   land.propertylandusedesc,\n",
    "                   heat.heatingorsystemdesc,\n",
    "                   air.airconditioningdesc, \n",
    "                   bldg.buildingclassdesc,\n",
    "                   story.storydesc\n",
    "              FROM properties_2017 prop\n",
    "                JOIN predictions_2017            pred  USING(parcelid)\n",
    "                LEFT JOIN typeconstructiontype   const USING(typeconstructiontypeid)\n",
    "                LEFT JOIN architecturalstyletype arch  USING(architecturalstyletypeid)\n",
    "                LEFT JOIN propertylandusetype    land  USING(propertylandusetypeid)\n",
    "                LEFT JOIN heatingorsystemtype    heat  USING(heatingorsystemtypeid)\n",
    "                LEFT JOIN airconditioningtype    air   USING(airconditioningtypeid)\n",
    "                LEFT JOIN buildingclasstype      bldg  USING(buildingclasstypeid)\n",
    "                LEFT JOIN storytype              story USING(storytypeid)\n",
    "              WHERE pred.transactiondate LIKE \"2017%%\"\n",
    "                AND pred.transactiondate in (\n",
    "                                             SELECT MAX(transactiondate)\n",
    "                                               FROM predictions_2017\n",
    "                                               GROUP BY parcelid\n",
    "                                             )\n",
    "                AND prop.latitude IS NOT NULL\n",
    "                AND prop.longitude IS NOT NULL;\n",
    "            '''\n",
    "    print('No local file exists\\nReading from SQL database...')\n",
    "    # query the database and return the resulting table as a pandas dataframe\n",
    "    df = pd.read_sql(sql, url)\n",
    "    # save the dataframe to the local directory as a csv\n",
    "    print('Saving to local CSV... ')\n",
    "    df.to_csv(filename, index=False)\n",
    "    # return the resulting dataframe\n",
    "    return df"
   ]
  },
  {
   "cell_type": "code",
   "execution_count": null,
   "id": "453bd3f8",
   "metadata": {},
   "outputs": [
    {
     "name": "stdout",
     "output_type": "stream",
     "text": [
      "No local file exists\n",
      "Reading from SQL database...\n"
     ]
    }
   ],
   "source": [
    "df = zillow_2017_data()"
   ]
  },
  {
   "cell_type": "code",
   "execution_count": null,
   "id": "a04c6383",
   "metadata": {},
   "outputs": [],
   "source": []
  }
 ],
 "metadata": {
  "kernelspec": {
   "display_name": "Python 3 (ipykernel)",
   "language": "python",
   "name": "python3"
  },
  "language_info": {
   "codemirror_mode": {
    "name": "ipython",
    "version": 3
   },
   "file_extension": ".py",
   "mimetype": "text/x-python",
   "name": "python",
   "nbconvert_exporter": "python",
   "pygments_lexer": "ipython3",
   "version": "3.9.7"
  }
 },
 "nbformat": 4,
 "nbformat_minor": 5
}
